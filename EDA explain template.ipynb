{
 "cells": [
  {
   "cell_type": "code",
   "execution_count": 2,
   "id": "e69c4ba1-85f3-4a02-ae37-c64347a01803",
   "metadata": {},
   "outputs": [],
   "source": [
    "#Import all relevant libraries\n",
    "import numpy as np\n",
    "import pandas as pd\n",
    "import matplotlib.pyplot as plt\n",
    "import seaborn as sns\n",
    "from scipy.stats import zscore\n",
    "import dtale \n",
    "import plotly.graph_objects as go\n",
    "from sklearn.model_selection import train_test_split ,cross_val_score\n",
    "from sklearn.metrics import mean_squared_error, r2_score, mean_absolute_error\n",
    "from sklearn.preprocessing import StandardScaler, LabelEncoder\n",
    "from sklearn.linear_model import LinearRegression, Ridge, Lasso\n",
    "from sklearn.model_selection import GridSearchCV\n",
    "from sklearn.linear_model import LogisticRegression\n",
    "from sklearn import metrics\n",
    "from sklearn.metrics import confusion_matrix, classification_report , ConfusionMatrixDisplay\n",
    "from sklearn.metrics import accuracy_score, confusion_matrix, precision_score, recall_score, f1_score\n",
    "from sklearn.model_selection import train_test_split\n",
    "from sklearn.tree import DecisionTreeClassifier\n",
    "from sklearn.ensemble import RandomForestClassifier\n",
    "## This statement allows the visuals to render within your Jupyter Notebook.\n",
    "%matplotlib inline"
   ]
  },
  {
   "cell_type": "markdown",
   "id": "e395e8bf-b530-4720-8d0f-26811e927d6e",
   "metadata": {},
   "source": [
    "## Loading the data\n",
    "We can now load the dataset into pandas using the read_csv() function. This converts the CSV file into a Pandas dataframe."
   ]
  },
  {
   "cell_type": "code",
   "execution_count": 3,
   "id": "cf4030b0-aa7f-4bd7-8e9c-c1b7f4d202d0",
   "metadata": {},
   "outputs": [],
   "source": [
    "df = pd.read_csv(\"/Users/raneemaj/Documents/GitHub/Use-case-7/final_data.csv\")"
   ]
  },
  {
   "cell_type": "markdown",
   "id": "ca5ed983-0f72-43eb-8168-6fafd48c562e",
   "metadata": {},
   "source": [
    "### Viewing the dataframe\n",
    "We can get a quick sense of the size of our dataset by using the shape method. This returns a tuple with the number of rows and columns in the dataset."
   ]
  },
  {
   "cell_type": "code",
   "execution_count": 4,
   "id": "bfde0b69-613c-4dd1-8ebf-e4d2e570e653",
   "metadata": {},
   "outputs": [
    {
     "data": {
      "text/html": [
       "<div>\n",
       "<style scoped>\n",
       "    .dataframe tbody tr th:only-of-type {\n",
       "        vertical-align: middle;\n",
       "    }\n",
       "\n",
       "    .dataframe tbody tr th {\n",
       "        vertical-align: top;\n",
       "    }\n",
       "\n",
       "    .dataframe thead th {\n",
       "        text-align: right;\n",
       "    }\n",
       "</style>\n",
       "<table border=\"1\" class=\"dataframe\">\n",
       "  <thead>\n",
       "    <tr style=\"text-align: right;\">\n",
       "      <th></th>\n",
       "      <th>player</th>\n",
       "      <th>team</th>\n",
       "      <th>name</th>\n",
       "      <th>position</th>\n",
       "      <th>height</th>\n",
       "      <th>age</th>\n",
       "      <th>appearance</th>\n",
       "      <th>goals</th>\n",
       "      <th>assists</th>\n",
       "      <th>yellow cards</th>\n",
       "      <th>...</th>\n",
       "      <th>goals conceded</th>\n",
       "      <th>clean sheets</th>\n",
       "      <th>minutes played</th>\n",
       "      <th>days_injured</th>\n",
       "      <th>games_injured</th>\n",
       "      <th>award</th>\n",
       "      <th>current_value</th>\n",
       "      <th>highest_value</th>\n",
       "      <th>position_encoded</th>\n",
       "      <th>winger</th>\n",
       "    </tr>\n",
       "  </thead>\n",
       "  <tbody>\n",
       "    <tr>\n",
       "      <th>0</th>\n",
       "      <td>/david-de-gea/profil/spieler/59377</td>\n",
       "      <td>Manchester United</td>\n",
       "      <td>David de Gea</td>\n",
       "      <td>Goalkeeper</td>\n",
       "      <td>189.0</td>\n",
       "      <td>32.0</td>\n",
       "      <td>104</td>\n",
       "      <td>0.000000</td>\n",
       "      <td>0.000000</td>\n",
       "      <td>0.009585</td>\n",
       "      <td>...</td>\n",
       "      <td>1.217252</td>\n",
       "      <td>0.335463</td>\n",
       "      <td>9390</td>\n",
       "      <td>42</td>\n",
       "      <td>5</td>\n",
       "      <td>13</td>\n",
       "      <td>15000000</td>\n",
       "      <td>70000000</td>\n",
       "      <td>1</td>\n",
       "      <td>0</td>\n",
       "    </tr>\n",
       "    <tr>\n",
       "      <th>1</th>\n",
       "      <td>/jack-butland/profil/spieler/128899</td>\n",
       "      <td>Manchester United</td>\n",
       "      <td>Jack Butland</td>\n",
       "      <td>Goalkeeper</td>\n",
       "      <td>196.0</td>\n",
       "      <td>30.0</td>\n",
       "      <td>15</td>\n",
       "      <td>0.000000</td>\n",
       "      <td>0.000000</td>\n",
       "      <td>0.069018</td>\n",
       "      <td>...</td>\n",
       "      <td>1.242331</td>\n",
       "      <td>0.207055</td>\n",
       "      <td>1304</td>\n",
       "      <td>510</td>\n",
       "      <td>58</td>\n",
       "      <td>1</td>\n",
       "      <td>1500000</td>\n",
       "      <td>22000000</td>\n",
       "      <td>1</td>\n",
       "      <td>0</td>\n",
       "    </tr>\n",
       "    <tr>\n",
       "      <th>2</th>\n",
       "      <td>/tom-heaton/profil/spieler/34130</td>\n",
       "      <td>Manchester United</td>\n",
       "      <td>Tom Heaton</td>\n",
       "      <td>Goalkeeper</td>\n",
       "      <td>188.0</td>\n",
       "      <td>37.0</td>\n",
       "      <td>4</td>\n",
       "      <td>0.000000</td>\n",
       "      <td>0.000000</td>\n",
       "      <td>0.000000</td>\n",
       "      <td>...</td>\n",
       "      <td>0.616438</td>\n",
       "      <td>0.924658</td>\n",
       "      <td>292</td>\n",
       "      <td>697</td>\n",
       "      <td>84</td>\n",
       "      <td>4</td>\n",
       "      <td>600000</td>\n",
       "      <td>6000000</td>\n",
       "      <td>1</td>\n",
       "      <td>0</td>\n",
       "    </tr>\n",
       "    <tr>\n",
       "      <th>3</th>\n",
       "      <td>/lisandro-martinez/profil/spieler/480762</td>\n",
       "      <td>Manchester United</td>\n",
       "      <td>Lisandro Martínez</td>\n",
       "      <td>Defender Centre-Back</td>\n",
       "      <td>175.0</td>\n",
       "      <td>25.0</td>\n",
       "      <td>82</td>\n",
       "      <td>0.028090</td>\n",
       "      <td>0.056180</td>\n",
       "      <td>0.224719</td>\n",
       "      <td>...</td>\n",
       "      <td>0.000000</td>\n",
       "      <td>0.000000</td>\n",
       "      <td>6408</td>\n",
       "      <td>175</td>\n",
       "      <td>22</td>\n",
       "      <td>9</td>\n",
       "      <td>50000000</td>\n",
       "      <td>50000000</td>\n",
       "      <td>2</td>\n",
       "      <td>0</td>\n",
       "    </tr>\n",
       "    <tr>\n",
       "      <th>4</th>\n",
       "      <td>/raphael-varane/profil/spieler/164770</td>\n",
       "      <td>Manchester United</td>\n",
       "      <td>Raphaël Varane</td>\n",
       "      <td>Defender Centre-Back</td>\n",
       "      <td>191.0</td>\n",
       "      <td>30.0</td>\n",
       "      <td>63</td>\n",
       "      <td>0.017889</td>\n",
       "      <td>0.017889</td>\n",
       "      <td>0.053667</td>\n",
       "      <td>...</td>\n",
       "      <td>0.000000</td>\n",
       "      <td>0.000000</td>\n",
       "      <td>5031</td>\n",
       "      <td>238</td>\n",
       "      <td>51</td>\n",
       "      <td>21</td>\n",
       "      <td>40000000</td>\n",
       "      <td>80000000</td>\n",
       "      <td>2</td>\n",
       "      <td>0</td>\n",
       "    </tr>\n",
       "  </tbody>\n",
       "</table>\n",
       "<p>5 rows × 22 columns</p>\n",
       "</div>"
      ],
      "text/plain": [
       "                                     player               team  \\\n",
       "0        /david-de-gea/profil/spieler/59377  Manchester United   \n",
       "1       /jack-butland/profil/spieler/128899  Manchester United   \n",
       "2          /tom-heaton/profil/spieler/34130  Manchester United   \n",
       "3  /lisandro-martinez/profil/spieler/480762  Manchester United   \n",
       "4     /raphael-varane/profil/spieler/164770  Manchester United   \n",
       "\n",
       "                name              position  height   age  appearance  \\\n",
       "0       David de Gea            Goalkeeper   189.0  32.0         104   \n",
       "1       Jack Butland            Goalkeeper   196.0  30.0          15   \n",
       "2         Tom Heaton            Goalkeeper   188.0  37.0           4   \n",
       "3  Lisandro Martínez  Defender Centre-Back   175.0  25.0          82   \n",
       "4     Raphaël Varane  Defender Centre-Back   191.0  30.0          63   \n",
       "\n",
       "      goals   assists  yellow cards  ...  goals conceded  clean sheets  \\\n",
       "0  0.000000  0.000000      0.009585  ...        1.217252      0.335463   \n",
       "1  0.000000  0.000000      0.069018  ...        1.242331      0.207055   \n",
       "2  0.000000  0.000000      0.000000  ...        0.616438      0.924658   \n",
       "3  0.028090  0.056180      0.224719  ...        0.000000      0.000000   \n",
       "4  0.017889  0.017889      0.053667  ...        0.000000      0.000000   \n",
       "\n",
       "   minutes played  days_injured  games_injured  award  current_value  \\\n",
       "0            9390            42              5     13       15000000   \n",
       "1            1304           510             58      1        1500000   \n",
       "2             292           697             84      4         600000   \n",
       "3            6408           175             22      9       50000000   \n",
       "4            5031           238             51     21       40000000   \n",
       "\n",
       "   highest_value  position_encoded  winger  \n",
       "0       70000000                 1       0  \n",
       "1       22000000                 1       0  \n",
       "2        6000000                 1       0  \n",
       "3       50000000                 2       0  \n",
       "4       80000000                 2       0  \n",
       "\n",
       "[5 rows x 22 columns]"
      ]
     },
     "execution_count": 4,
     "metadata": {},
     "output_type": "execute_result"
    }
   ],
   "source": [
    "df.head()"
   ]
  },
  {
   "cell_type": "code",
   "execution_count": 6,
   "id": "ca308b2e",
   "metadata": {},
   "outputs": [
    {
     "data": {
      "text/html": [
       "<div>\n",
       "<style scoped>\n",
       "    .dataframe tbody tr th:only-of-type {\n",
       "        vertical-align: middle;\n",
       "    }\n",
       "\n",
       "    .dataframe tbody tr th {\n",
       "        vertical-align: top;\n",
       "    }\n",
       "\n",
       "    .dataframe thead th {\n",
       "        text-align: right;\n",
       "    }\n",
       "</style>\n",
       "<table border=\"1\" class=\"dataframe\">\n",
       "  <thead>\n",
       "    <tr style=\"text-align: right;\">\n",
       "      <th></th>\n",
       "      <th>player</th>\n",
       "      <th>team</th>\n",
       "      <th>name</th>\n",
       "      <th>position</th>\n",
       "      <th>height</th>\n",
       "      <th>age</th>\n",
       "      <th>appearance</th>\n",
       "      <th>goals</th>\n",
       "      <th>assists</th>\n",
       "      <th>yellow cards</th>\n",
       "      <th>...</th>\n",
       "      <th>goals conceded</th>\n",
       "      <th>clean sheets</th>\n",
       "      <th>minutes played</th>\n",
       "      <th>days_injured</th>\n",
       "      <th>games_injured</th>\n",
       "      <th>award</th>\n",
       "      <th>current_value</th>\n",
       "      <th>highest_value</th>\n",
       "      <th>position_encoded</th>\n",
       "      <th>winger</th>\n",
       "    </tr>\n",
       "  </thead>\n",
       "  <tbody>\n",
       "    <tr>\n",
       "      <th>10749</th>\n",
       "      <td>/aidan-simmons/profil/spieler/867763</td>\n",
       "      <td>Western Sydney Wanderers</td>\n",
       "      <td>Aidan Simmons</td>\n",
       "      <td>Attack-RightWinger</td>\n",
       "      <td>181.240353</td>\n",
       "      <td>20.0</td>\n",
       "      <td>16</td>\n",
       "      <td>0.175953</td>\n",
       "      <td>0.087977</td>\n",
       "      <td>0.263930</td>\n",
       "      <td>...</td>\n",
       "      <td>0.0</td>\n",
       "      <td>0.0</td>\n",
       "      <td>1023</td>\n",
       "      <td>0</td>\n",
       "      <td>0</td>\n",
       "      <td>0</td>\n",
       "      <td>75000</td>\n",
       "      <td>75000</td>\n",
       "      <td>4</td>\n",
       "      <td>1</td>\n",
       "    </tr>\n",
       "    <tr>\n",
       "      <th>10750</th>\n",
       "      <td>/kusini-yengi/profil/spieler/708099</td>\n",
       "      <td>Western Sydney Wanderers</td>\n",
       "      <td>Kusini Yengi</td>\n",
       "      <td>Attack Centre-Forward</td>\n",
       "      <td>190.000000</td>\n",
       "      <td>24.0</td>\n",
       "      <td>26</td>\n",
       "      <td>0.372671</td>\n",
       "      <td>0.186335</td>\n",
       "      <td>0.186335</td>\n",
       "      <td>...</td>\n",
       "      <td>0.0</td>\n",
       "      <td>0.0</td>\n",
       "      <td>1449</td>\n",
       "      <td>102</td>\n",
       "      <td>18</td>\n",
       "      <td>0</td>\n",
       "      <td>300000</td>\n",
       "      <td>300000</td>\n",
       "      <td>4</td>\n",
       "      <td>0</td>\n",
       "    </tr>\n",
       "    <tr>\n",
       "      <th>10751</th>\n",
       "      <td>/nathanael-blair/profil/spieler/1023268</td>\n",
       "      <td>Western Sydney Wanderers</td>\n",
       "      <td>Nathanael Blair</td>\n",
       "      <td>Attack Centre-Forward</td>\n",
       "      <td>181.240353</td>\n",
       "      <td>19.0</td>\n",
       "      <td>20</td>\n",
       "      <td>0.375000</td>\n",
       "      <td>0.000000</td>\n",
       "      <td>0.187500</td>\n",
       "      <td>...</td>\n",
       "      <td>0.0</td>\n",
       "      <td>0.0</td>\n",
       "      <td>960</td>\n",
       "      <td>0</td>\n",
       "      <td>0</td>\n",
       "      <td>0</td>\n",
       "      <td>50000</td>\n",
       "      <td>50000</td>\n",
       "      <td>4</td>\n",
       "      <td>0</td>\n",
       "    </tr>\n",
       "    <tr>\n",
       "      <th>10752</th>\n",
       "      <td>/zachary-sapsford/profil/spieler/703657</td>\n",
       "      <td>Western Sydney Wanderers</td>\n",
       "      <td>Zachary Sapsford</td>\n",
       "      <td>Attack Centre-Forward</td>\n",
       "      <td>181.240353</td>\n",
       "      <td>20.0</td>\n",
       "      <td>17</td>\n",
       "      <td>0.312139</td>\n",
       "      <td>0.104046</td>\n",
       "      <td>0.000000</td>\n",
       "      <td>...</td>\n",
       "      <td>0.0</td>\n",
       "      <td>0.0</td>\n",
       "      <td>865</td>\n",
       "      <td>0</td>\n",
       "      <td>0</td>\n",
       "      <td>0</td>\n",
       "      <td>50000</td>\n",
       "      <td>50000</td>\n",
       "      <td>4</td>\n",
       "      <td>0</td>\n",
       "    </tr>\n",
       "    <tr>\n",
       "      <th>10753</th>\n",
       "      <td>/alexander-badolato/profil/spieler/957230</td>\n",
       "      <td>Western Sydney Wanderers</td>\n",
       "      <td>Alexander Badolato</td>\n",
       "      <td>Attack Centre-Forward</td>\n",
       "      <td>170.000000</td>\n",
       "      <td>18.0</td>\n",
       "      <td>21</td>\n",
       "      <td>0.000000</td>\n",
       "      <td>0.000000</td>\n",
       "      <td>0.086042</td>\n",
       "      <td>...</td>\n",
       "      <td>0.0</td>\n",
       "      <td>0.0</td>\n",
       "      <td>1046</td>\n",
       "      <td>0</td>\n",
       "      <td>0</td>\n",
       "      <td>0</td>\n",
       "      <td>25000</td>\n",
       "      <td>25000</td>\n",
       "      <td>4</td>\n",
       "      <td>0</td>\n",
       "    </tr>\n",
       "  </tbody>\n",
       "</table>\n",
       "<p>5 rows × 22 columns</p>\n",
       "</div>"
      ],
      "text/plain": [
       "                                          player                      team  \\\n",
       "10749       /aidan-simmons/profil/spieler/867763  Western Sydney Wanderers   \n",
       "10750        /kusini-yengi/profil/spieler/708099  Western Sydney Wanderers   \n",
       "10751    /nathanael-blair/profil/spieler/1023268  Western Sydney Wanderers   \n",
       "10752    /zachary-sapsford/profil/spieler/703657  Western Sydney Wanderers   \n",
       "10753  /alexander-badolato/profil/spieler/957230  Western Sydney Wanderers   \n",
       "\n",
       "                     name               position      height   age  \\\n",
       "10749       Aidan Simmons     Attack-RightWinger  181.240353  20.0   \n",
       "10750        Kusini Yengi  Attack Centre-Forward  190.000000  24.0   \n",
       "10751     Nathanael Blair  Attack Centre-Forward  181.240353  19.0   \n",
       "10752    Zachary Sapsford  Attack Centre-Forward  181.240353  20.0   \n",
       "10753  Alexander Badolato  Attack Centre-Forward  170.000000  18.0   \n",
       "\n",
       "       appearance     goals   assists  yellow cards  ...  goals conceded  \\\n",
       "10749          16  0.175953  0.087977      0.263930  ...             0.0   \n",
       "10750          26  0.372671  0.186335      0.186335  ...             0.0   \n",
       "10751          20  0.375000  0.000000      0.187500  ...             0.0   \n",
       "10752          17  0.312139  0.104046      0.000000  ...             0.0   \n",
       "10753          21  0.000000  0.000000      0.086042  ...             0.0   \n",
       "\n",
       "       clean sheets  minutes played  days_injured  games_injured  award  \\\n",
       "10749           0.0            1023             0              0      0   \n",
       "10750           0.0            1449           102             18      0   \n",
       "10751           0.0             960             0              0      0   \n",
       "10752           0.0             865             0              0      0   \n",
       "10753           0.0            1046             0              0      0   \n",
       "\n",
       "       current_value  highest_value  position_encoded  winger  \n",
       "10749          75000          75000                 4       1  \n",
       "10750         300000         300000                 4       0  \n",
       "10751          50000          50000                 4       0  \n",
       "10752          50000          50000                 4       0  \n",
       "10753          25000          25000                 4       0  \n",
       "\n",
       "[5 rows x 22 columns]"
      ]
     },
     "execution_count": 6,
     "metadata": {},
     "output_type": "execute_result"
    }
   ],
   "source": [
    "df.tail()"
   ]
  },
  {
   "cell_type": "markdown",
   "id": "bd2b5bc4-db37-4432-b666-0714afd0c4ca",
   "metadata": {},
   "source": [
    "## 1. Data Profiling:\n",
    "Data profiling is a comprehensive process of examining the data available in an existing dataset and collecting statistics and information about that data. "
   ]
  },
  {
   "cell_type": "code",
   "execution_count": 7,
   "id": "672f2081-5a2c-4908-8cbd-29519fb3cac5",
   "metadata": {},
   "outputs": [
    {
     "name": "stdout",
     "output_type": "stream",
     "text": [
      "<class 'pandas.core.frame.DataFrame'>\n",
      "RangeIndex: 10754 entries, 0 to 10753\n",
      "Data columns (total 22 columns):\n",
      " #   Column               Non-Null Count  Dtype  \n",
      "---  ------               --------------  -----  \n",
      " 0   player               10754 non-null  object \n",
      " 1   team                 10754 non-null  object \n",
      " 2   name                 10754 non-null  object \n",
      " 3   position             10754 non-null  object \n",
      " 4   height               10754 non-null  float64\n",
      " 5   age                  10754 non-null  float64\n",
      " 6   appearance           10754 non-null  int64  \n",
      " 7   goals                10754 non-null  float64\n",
      " 8   assists              10754 non-null  float64\n",
      " 9   yellow cards         10754 non-null  float64\n",
      " 10  second yellow cards  10754 non-null  float64\n",
      " 11  red cards            10754 non-null  float64\n",
      " 12  goals conceded       10754 non-null  float64\n",
      " 13  clean sheets         10754 non-null  float64\n",
      " 14  minutes played       10754 non-null  int64  \n",
      " 15  days_injured         10754 non-null  int64  \n",
      " 16  games_injured        10754 non-null  int64  \n",
      " 17  award                10754 non-null  int64  \n",
      " 18  current_value        10754 non-null  int64  \n",
      " 19  highest_value        10754 non-null  int64  \n",
      " 20  position_encoded     10754 non-null  int64  \n",
      " 21  winger               10754 non-null  int64  \n",
      "dtypes: float64(9), int64(9), object(4)\n",
      "memory usage: 1.8+ MB\n"
     ]
    }
   ],
   "source": [
    "df.info()"
   ]
  },
  {
   "cell_type": "code",
   "execution_count": 8,
   "id": "e850776c",
   "metadata": {},
   "outputs": [
    {
     "data": {
      "text/html": [
       "<div>\n",
       "<style scoped>\n",
       "    .dataframe tbody tr th:only-of-type {\n",
       "        vertical-align: middle;\n",
       "    }\n",
       "\n",
       "    .dataframe tbody tr th {\n",
       "        vertical-align: top;\n",
       "    }\n",
       "\n",
       "    .dataframe thead th {\n",
       "        text-align: right;\n",
       "    }\n",
       "</style>\n",
       "<table border=\"1\" class=\"dataframe\">\n",
       "  <thead>\n",
       "    <tr style=\"text-align: right;\">\n",
       "      <th></th>\n",
       "      <th>height</th>\n",
       "      <th>age</th>\n",
       "      <th>appearance</th>\n",
       "      <th>goals</th>\n",
       "      <th>assists</th>\n",
       "      <th>yellow cards</th>\n",
       "      <th>second yellow cards</th>\n",
       "      <th>red cards</th>\n",
       "      <th>goals conceded</th>\n",
       "      <th>clean sheets</th>\n",
       "      <th>minutes played</th>\n",
       "      <th>days_injured</th>\n",
       "      <th>games_injured</th>\n",
       "      <th>award</th>\n",
       "      <th>current_value</th>\n",
       "      <th>highest_value</th>\n",
       "      <th>position_encoded</th>\n",
       "      <th>winger</th>\n",
       "    </tr>\n",
       "  </thead>\n",
       "  <tbody>\n",
       "    <tr>\n",
       "      <th>count</th>\n",
       "      <td>10754.000000</td>\n",
       "      <td>10754.000000</td>\n",
       "      <td>10754.000000</td>\n",
       "      <td>10754.000000</td>\n",
       "      <td>10754.000000</td>\n",
       "      <td>10754.000000</td>\n",
       "      <td>10754.000000</td>\n",
       "      <td>10754.000000</td>\n",
       "      <td>10754.000000</td>\n",
       "      <td>10754.000000</td>\n",
       "      <td>10754.000000</td>\n",
       "      <td>10754.000000</td>\n",
       "      <td>10754.000000</td>\n",
       "      <td>10754.000000</td>\n",
       "      <td>1.075400e+04</td>\n",
       "      <td>1.075400e+04</td>\n",
       "      <td>10754.000000</td>\n",
       "      <td>10754.000000</td>\n",
       "    </tr>\n",
       "    <tr>\n",
       "      <th>mean</th>\n",
       "      <td>181.240353</td>\n",
       "      <td>26.041903</td>\n",
       "      <td>36.407011</td>\n",
       "      <td>0.125554</td>\n",
       "      <td>0.086978</td>\n",
       "      <td>0.189757</td>\n",
       "      <td>0.004666</td>\n",
       "      <td>0.006826</td>\n",
       "      <td>0.131655</td>\n",
       "      <td>0.044881</td>\n",
       "      <td>2470.789381</td>\n",
       "      <td>117.961689</td>\n",
       "      <td>15.826297</td>\n",
       "      <td>1.960759</td>\n",
       "      <td>3.622971e+06</td>\n",
       "      <td>6.152606e+06</td>\n",
       "      <td>2.713223</td>\n",
       "      <td>0.307513</td>\n",
       "    </tr>\n",
       "    <tr>\n",
       "      <th>std</th>\n",
       "      <td>6.969818</td>\n",
       "      <td>4.777629</td>\n",
       "      <td>26.526541</td>\n",
       "      <td>0.235585</td>\n",
       "      <td>0.143351</td>\n",
       "      <td>0.432388</td>\n",
       "      <td>0.025232</td>\n",
       "      <td>0.081143</td>\n",
       "      <td>0.442335</td>\n",
       "      <td>0.924437</td>\n",
       "      <td>2021.703271</td>\n",
       "      <td>175.206827</td>\n",
       "      <td>23.383606</td>\n",
       "      <td>3.743936</td>\n",
       "      <td>9.095410e+06</td>\n",
       "      <td>1.338988e+07</td>\n",
       "      <td>0.986356</td>\n",
       "      <td>0.461485</td>\n",
       "    </tr>\n",
       "    <tr>\n",
       "      <th>min</th>\n",
       "      <td>156.000000</td>\n",
       "      <td>15.000000</td>\n",
       "      <td>0.000000</td>\n",
       "      <td>0.000000</td>\n",
       "      <td>0.000000</td>\n",
       "      <td>0.000000</td>\n",
       "      <td>0.000000</td>\n",
       "      <td>0.000000</td>\n",
       "      <td>0.000000</td>\n",
       "      <td>0.000000</td>\n",
       "      <td>0.000000</td>\n",
       "      <td>0.000000</td>\n",
       "      <td>0.000000</td>\n",
       "      <td>0.000000</td>\n",
       "      <td>0.000000e+00</td>\n",
       "      <td>0.000000e+00</td>\n",
       "      <td>1.000000</td>\n",
       "      <td>0.000000</td>\n",
       "    </tr>\n",
       "    <tr>\n",
       "      <th>25%</th>\n",
       "      <td>176.000000</td>\n",
       "      <td>22.000000</td>\n",
       "      <td>12.000000</td>\n",
       "      <td>0.000000</td>\n",
       "      <td>0.000000</td>\n",
       "      <td>0.053191</td>\n",
       "      <td>0.000000</td>\n",
       "      <td>0.000000</td>\n",
       "      <td>0.000000</td>\n",
       "      <td>0.000000</td>\n",
       "      <td>660.000000</td>\n",
       "      <td>0.000000</td>\n",
       "      <td>0.000000</td>\n",
       "      <td>0.000000</td>\n",
       "      <td>3.000000e+05</td>\n",
       "      <td>4.500000e+05</td>\n",
       "      <td>2.000000</td>\n",
       "      <td>0.000000</td>\n",
       "    </tr>\n",
       "    <tr>\n",
       "      <th>50%</th>\n",
       "      <td>181.240353</td>\n",
       "      <td>26.000000</td>\n",
       "      <td>35.000000</td>\n",
       "      <td>0.045969</td>\n",
       "      <td>0.040773</td>\n",
       "      <td>0.150250</td>\n",
       "      <td>0.000000</td>\n",
       "      <td>0.000000</td>\n",
       "      <td>0.000000</td>\n",
       "      <td>0.000000</td>\n",
       "      <td>2101.500000</td>\n",
       "      <td>37.000000</td>\n",
       "      <td>5.000000</td>\n",
       "      <td>1.000000</td>\n",
       "      <td>8.000000e+05</td>\n",
       "      <td>1.500000e+06</td>\n",
       "      <td>3.000000</td>\n",
       "      <td>0.000000</td>\n",
       "    </tr>\n",
       "    <tr>\n",
       "      <th>75%</th>\n",
       "      <td>186.000000</td>\n",
       "      <td>29.000000</td>\n",
       "      <td>59.000000</td>\n",
       "      <td>0.172263</td>\n",
       "      <td>0.133136</td>\n",
       "      <td>0.248276</td>\n",
       "      <td>0.000000</td>\n",
       "      <td>0.000000</td>\n",
       "      <td>0.000000</td>\n",
       "      <td>0.000000</td>\n",
       "      <td>3968.000000</td>\n",
       "      <td>181.000000</td>\n",
       "      <td>24.000000</td>\n",
       "      <td>2.000000</td>\n",
       "      <td>3.000000e+06</td>\n",
       "      <td>5.000000e+06</td>\n",
       "      <td>4.000000</td>\n",
       "      <td>1.000000</td>\n",
       "    </tr>\n",
       "    <tr>\n",
       "      <th>max</th>\n",
       "      <td>206.000000</td>\n",
       "      <td>43.000000</td>\n",
       "      <td>107.000000</td>\n",
       "      <td>11.250000</td>\n",
       "      <td>4.000000</td>\n",
       "      <td>30.000000</td>\n",
       "      <td>1.000000</td>\n",
       "      <td>6.923077</td>\n",
       "      <td>9.000000</td>\n",
       "      <td>90.000000</td>\n",
       "      <td>9510.000000</td>\n",
       "      <td>2349.000000</td>\n",
       "      <td>339.000000</td>\n",
       "      <td>92.000000</td>\n",
       "      <td>1.800000e+08</td>\n",
       "      <td>2.000000e+08</td>\n",
       "      <td>4.000000</td>\n",
       "      <td>1.000000</td>\n",
       "    </tr>\n",
       "  </tbody>\n",
       "</table>\n",
       "</div>"
      ],
      "text/plain": [
       "             height           age    appearance         goals       assists  \\\n",
       "count  10754.000000  10754.000000  10754.000000  10754.000000  10754.000000   \n",
       "mean     181.240353     26.041903     36.407011      0.125554      0.086978   \n",
       "std        6.969818      4.777629     26.526541      0.235585      0.143351   \n",
       "min      156.000000     15.000000      0.000000      0.000000      0.000000   \n",
       "25%      176.000000     22.000000     12.000000      0.000000      0.000000   \n",
       "50%      181.240353     26.000000     35.000000      0.045969      0.040773   \n",
       "75%      186.000000     29.000000     59.000000      0.172263      0.133136   \n",
       "max      206.000000     43.000000    107.000000     11.250000      4.000000   \n",
       "\n",
       "       yellow cards  second yellow cards     red cards  goals conceded  \\\n",
       "count  10754.000000         10754.000000  10754.000000    10754.000000   \n",
       "mean       0.189757             0.004666      0.006826        0.131655   \n",
       "std        0.432388             0.025232      0.081143        0.442335   \n",
       "min        0.000000             0.000000      0.000000        0.000000   \n",
       "25%        0.053191             0.000000      0.000000        0.000000   \n",
       "50%        0.150250             0.000000      0.000000        0.000000   \n",
       "75%        0.248276             0.000000      0.000000        0.000000   \n",
       "max       30.000000             1.000000      6.923077        9.000000   \n",
       "\n",
       "       clean sheets  minutes played  days_injured  games_injured  \\\n",
       "count  10754.000000    10754.000000  10754.000000   10754.000000   \n",
       "mean       0.044881     2470.789381    117.961689      15.826297   \n",
       "std        0.924437     2021.703271    175.206827      23.383606   \n",
       "min        0.000000        0.000000      0.000000       0.000000   \n",
       "25%        0.000000      660.000000      0.000000       0.000000   \n",
       "50%        0.000000     2101.500000     37.000000       5.000000   \n",
       "75%        0.000000     3968.000000    181.000000      24.000000   \n",
       "max       90.000000     9510.000000   2349.000000     339.000000   \n",
       "\n",
       "              award  current_value  highest_value  position_encoded  \\\n",
       "count  10754.000000   1.075400e+04   1.075400e+04      10754.000000   \n",
       "mean       1.960759   3.622971e+06   6.152606e+06          2.713223   \n",
       "std        3.743936   9.095410e+06   1.338988e+07          0.986356   \n",
       "min        0.000000   0.000000e+00   0.000000e+00          1.000000   \n",
       "25%        0.000000   3.000000e+05   4.500000e+05          2.000000   \n",
       "50%        1.000000   8.000000e+05   1.500000e+06          3.000000   \n",
       "75%        2.000000   3.000000e+06   5.000000e+06          4.000000   \n",
       "max       92.000000   1.800000e+08   2.000000e+08          4.000000   \n",
       "\n",
       "             winger  \n",
       "count  10754.000000  \n",
       "mean       0.307513  \n",
       "std        0.461485  \n",
       "min        0.000000  \n",
       "25%        0.000000  \n",
       "50%        0.000000  \n",
       "75%        1.000000  \n",
       "max        1.000000  "
      ]
     },
     "execution_count": 8,
     "metadata": {},
     "output_type": "execute_result"
    }
   ],
   "source": [
    "df.describe()"
   ]
  },
  {
   "cell_type": "code",
   "execution_count": 9,
   "id": "c5c03262",
   "metadata": {},
   "outputs": [
    {
     "data": {
      "text/plain": [
       "(10754, 22)"
      ]
     },
     "execution_count": 9,
     "metadata": {},
     "output_type": "execute_result"
    }
   ],
   "source": [
    "df.shape"
   ]
  },
  {
   "cell_type": "code",
   "execution_count": 10,
   "id": "d91a3f43",
   "metadata": {},
   "outputs": [],
   "source": [
    "#dtale.show(df, open_browser=True)"
   ]
  },
  {
   "cell_type": "markdown",
   "id": "834929aa-fd6a-4ec5-84d4-77c4b3c1a506",
   "metadata": {},
   "source": [
    "The process of profiling differs slightly for categorical and numerical variables due to their inherent differences.\n",
    "\n",
    "**The two main types of data are:**\n",
    "- Quantitative (numerical) data\n",
    "- Qualitative (categorical) data"
   ]
  },
  {
   "cell_type": "markdown",
   "id": "3a9954f5-6fbc-45b4-ad86-3e21b6e0ca2d",
   "metadata": {},
   "source": [
    "### Data Quality Checks\n",
    "Data quality checks involve the process of ensuring that the data is accurate, complete, consistent, relevant, and reliable. \n",
    "\n",
    "\n",
    "**Here are typical steps involved in checking data quality:**"
   ]
  },
  {
   "cell_type": "markdown",
   "id": "4818c876-173d-4e56-9e7d-b4334d2def25",
   "metadata": {},
   "source": [
    "#### 1. Reliability:\n",
    "Evaluate the data's source and collection process to determine its trustworthiness."
   ]
  },
  {
   "cell_type": "code",
   "execution_count": 28,
   "id": "9034ae7b-dc1d-4cba-8f9e-bb499d021cde",
   "metadata": {},
   "outputs": [],
   "source": [
    "# it is Transfermarkt which it a reliable site in this field "
   ]
  },
  {
   "cell_type": "markdown",
   "id": "2ce0cc59-8c92-4acc-8d07-c40764e1a86b",
   "metadata": {},
   "source": [
    "#### 2. Timeliness: \n",
    "Ensure the data is up-to-date and reflective of the current situation or the period of interest for the analysis."
   ]
  },
  {
   "cell_type": "code",
   "execution_count": 29,
   "id": "4b78ae35-7226-4cb6-b8b2-a46c2ed17cf9",
   "metadata": {},
   "outputs": [],
   "source": [
    "# it's up-to-date for our usecase "
   ]
  },
  {
   "cell_type": "markdown",
   "id": "7fab0fe2-6624-4615-b9d8-3c3669056bf8",
   "metadata": {},
   "source": [
    "#### 3. Consistency: \n",
    "\n",
    "Confirm that the data is consistent within the dataset and across multiple data sources. For example, the same data point should not have different values in different places.\n"
   ]
  },
  {
   "cell_type": "code",
   "execution_count": 30,
   "id": "7fecc573-959f-4800-8ddd-a67985c68b18",
   "metadata": {},
   "outputs": [],
   "source": [
    "# it is consistent among other sources "
   ]
  },
  {
   "cell_type": "code",
   "execution_count": 11,
   "id": "39ade6d1",
   "metadata": {},
   "outputs": [
    {
     "data": {
      "text/plain": [
       "player                  object\n",
       "team                    object\n",
       "name                    object\n",
       "position                object\n",
       "height                 float64\n",
       "age                    float64\n",
       "appearance               int64\n",
       "goals                  float64\n",
       "assists                float64\n",
       "yellow cards           float64\n",
       "second yellow cards    float64\n",
       "red cards              float64\n",
       "goals conceded         float64\n",
       "clean sheets           float64\n",
       "minutes played           int64\n",
       "days_injured             int64\n",
       "games_injured            int64\n",
       "award                    int64\n",
       "current_value            int64\n",
       "highest_value            int64\n",
       "position_encoded         int64\n",
       "winger                   int64\n",
       "dtype: object"
      ]
     },
     "execution_count": 11,
     "metadata": {},
     "output_type": "execute_result"
    }
   ],
   "source": [
    "df.dtypes"
   ]
  },
  {
   "cell_type": "markdown",
   "id": "bec3d183-bba0-4b12-b963-487daab1e876",
   "metadata": {},
   "source": [
    "#### 4. Relevance: \n",
    "Assess whether the data is appropriate and applicable for the intended analysis. Data that is not relevant can skew results and lead to incorrect conclusions.\n",
    "\n",
    "**Key considerations for relevance include:**\n",
    "\n",
    "> 1. Sample Appropriateness: Confirm that your data sample aligns with your analysis objectives. For instance, utilizing data from the Northern region will not yield accurate insights for the Western region of the Kingdom.\n",
    ">\n",
    "> 2. Variable Selection: Any column will not be relevant for our analysis, we can get rid of these using the drop() method. We will set the “axis” argument to 1 since we’re dealing with columns, and set the “inplace” argument to True to make the change permanent.\n"
   ]
  },
  {
   "cell_type": "code",
   "execution_count": 12,
   "id": "50a934b7-a0cd-443f-8a27-f10e9a6e8647",
   "metadata": {
    "scrolled": true
   },
   "outputs": [
    {
     "data": {
      "text/html": [
       "<div>\n",
       "<style scoped>\n",
       "    .dataframe tbody tr th:only-of-type {\n",
       "        vertical-align: middle;\n",
       "    }\n",
       "\n",
       "    .dataframe tbody tr th {\n",
       "        vertical-align: top;\n",
       "    }\n",
       "\n",
       "    .dataframe thead th {\n",
       "        text-align: right;\n",
       "    }\n",
       "</style>\n",
       "<table border=\"1\" class=\"dataframe\">\n",
       "  <thead>\n",
       "    <tr style=\"text-align: right;\">\n",
       "      <th></th>\n",
       "      <th>player</th>\n",
       "      <th>team</th>\n",
       "      <th>name</th>\n",
       "      <th>position</th>\n",
       "      <th>height</th>\n",
       "      <th>age</th>\n",
       "      <th>appearance</th>\n",
       "      <th>goals</th>\n",
       "      <th>assists</th>\n",
       "      <th>yellow cards</th>\n",
       "      <th>...</th>\n",
       "      <th>goals conceded</th>\n",
       "      <th>clean sheets</th>\n",
       "      <th>minutes played</th>\n",
       "      <th>days_injured</th>\n",
       "      <th>games_injured</th>\n",
       "      <th>award</th>\n",
       "      <th>current_value</th>\n",
       "      <th>highest_value</th>\n",
       "      <th>position_encoded</th>\n",
       "      <th>winger</th>\n",
       "    </tr>\n",
       "  </thead>\n",
       "  <tbody>\n",
       "    <tr>\n",
       "      <th>0</th>\n",
       "      <td>/david-de-gea/profil/spieler/59377</td>\n",
       "      <td>Manchester United</td>\n",
       "      <td>David de Gea</td>\n",
       "      <td>Goalkeeper</td>\n",
       "      <td>189.0</td>\n",
       "      <td>32.0</td>\n",
       "      <td>104</td>\n",
       "      <td>0.0</td>\n",
       "      <td>0.0</td>\n",
       "      <td>0.009585</td>\n",
       "      <td>...</td>\n",
       "      <td>1.217252</td>\n",
       "      <td>0.335463</td>\n",
       "      <td>9390</td>\n",
       "      <td>42</td>\n",
       "      <td>5</td>\n",
       "      <td>13</td>\n",
       "      <td>15000000</td>\n",
       "      <td>70000000</td>\n",
       "      <td>1</td>\n",
       "      <td>0</td>\n",
       "    </tr>\n",
       "    <tr>\n",
       "      <th>1</th>\n",
       "      <td>/jack-butland/profil/spieler/128899</td>\n",
       "      <td>Manchester United</td>\n",
       "      <td>Jack Butland</td>\n",
       "      <td>Goalkeeper</td>\n",
       "      <td>196.0</td>\n",
       "      <td>30.0</td>\n",
       "      <td>15</td>\n",
       "      <td>0.0</td>\n",
       "      <td>0.0</td>\n",
       "      <td>0.069018</td>\n",
       "      <td>...</td>\n",
       "      <td>1.242331</td>\n",
       "      <td>0.207055</td>\n",
       "      <td>1304</td>\n",
       "      <td>510</td>\n",
       "      <td>58</td>\n",
       "      <td>1</td>\n",
       "      <td>1500000</td>\n",
       "      <td>22000000</td>\n",
       "      <td>1</td>\n",
       "      <td>0</td>\n",
       "    </tr>\n",
       "    <tr>\n",
       "      <th>2</th>\n",
       "      <td>/tom-heaton/profil/spieler/34130</td>\n",
       "      <td>Manchester United</td>\n",
       "      <td>Tom Heaton</td>\n",
       "      <td>Goalkeeper</td>\n",
       "      <td>188.0</td>\n",
       "      <td>37.0</td>\n",
       "      <td>4</td>\n",
       "      <td>0.0</td>\n",
       "      <td>0.0</td>\n",
       "      <td>0.000000</td>\n",
       "      <td>...</td>\n",
       "      <td>0.616438</td>\n",
       "      <td>0.924658</td>\n",
       "      <td>292</td>\n",
       "      <td>697</td>\n",
       "      <td>84</td>\n",
       "      <td>4</td>\n",
       "      <td>600000</td>\n",
       "      <td>6000000</td>\n",
       "      <td>1</td>\n",
       "      <td>0</td>\n",
       "    </tr>\n",
       "  </tbody>\n",
       "</table>\n",
       "<p>3 rows × 22 columns</p>\n",
       "</div>"
      ],
      "text/plain": [
       "                                player               team          name  \\\n",
       "0   /david-de-gea/profil/spieler/59377  Manchester United  David de Gea   \n",
       "1  /jack-butland/profil/spieler/128899  Manchester United  Jack Butland   \n",
       "2     /tom-heaton/profil/spieler/34130  Manchester United    Tom Heaton   \n",
       "\n",
       "     position  height   age  appearance  goals  assists  yellow cards  ...  \\\n",
       "0  Goalkeeper   189.0  32.0         104    0.0      0.0      0.009585  ...   \n",
       "1  Goalkeeper   196.0  30.0          15    0.0      0.0      0.069018  ...   \n",
       "2  Goalkeeper   188.0  37.0           4    0.0      0.0      0.000000  ...   \n",
       "\n",
       "   goals conceded  clean sheets  minutes played  days_injured  games_injured  \\\n",
       "0        1.217252      0.335463            9390            42              5   \n",
       "1        1.242331      0.207055            1304           510             58   \n",
       "2        0.616438      0.924658             292           697             84   \n",
       "\n",
       "   award  current_value  highest_value  position_encoded  winger  \n",
       "0     13       15000000       70000000                 1       0  \n",
       "1      1        1500000       22000000                 1       0  \n",
       "2      4         600000        6000000                 1       0  \n",
       "\n",
       "[3 rows x 22 columns]"
      ]
     },
     "execution_count": 12,
     "metadata": {},
     "output_type": "execute_result"
    }
   ],
   "source": [
    "df.head(3)\n"
   ]
  },
  {
   "cell_type": "code",
   "execution_count": 30,
   "id": "0c161e23",
   "metadata": {},
   "outputs": [
    {
     "data": {
      "image/png": "[encoded data removed]",
      "text/plain": [
       "<Figure size 800x600 with 1 Axes>"
      ]
     },
     "metadata": {},
     "output_type": "display_data"
    }
   ],
   "source": [
    "players = df[['name', 'team', 'current_value']]\n",
    "best_players = players.sort_values(by='current_value', ascending=False).drop_duplicates('current_value')\n",
    "\n",
    "top_10 = best_players.head(10)\n",
    "\n",
    "plt.figure(figsize=(8, 6))\n",
    "plt.barh(top_10['name'], top_10['current_value'], color='darkred')\n",
    "plt.xlabel('Current Value')\n",
    "plt.title('Top Current Values')\n",
    "plt.gca().invert_yaxis()\n",
    "plt.show()"
   ]
  },
  {
   "cell_type": "markdown",
   "metadata": {},
   "source": [
    "## Interpretation of the Model"
   ]
  },
  {
   "cell_type": "markdown",
   "id": "0f5e3a2a-bbb7-4d06-8220-c93277b70146",
   "metadata": {},
   "source": [
    "#### 5. Uniqueness: \n",
    "Check for and remove duplicate records to prevent skewed analysis results.\n"
   ]
  },
  {
   "cell_type": "code",
   "execution_count": 139,
   "id": "a509a7aa-58f4-4d39-8eb8-e8298a21f2a7",
   "metadata": {},
   "outputs": [
    {
     "data": {
      "text/plain": [
       "0"
      ]
     },
     "execution_count": 139,
     "metadata": {},
     "output_type": "execute_result"
    }
   ],
   "source": [
    "df.duplicated().sum()"
   ]
  },
  {
   "cell_type": "code",
   "execution_count": 35,
   "id": "04c62559-3b48-48cf-a4e9-857e2e0ff416",
   "metadata": {},
   "outputs": [],
   "source": [
    "# not nedded "
   ]
  },
  {
   "cell_type": "markdown",
   "id": "c7724ac2-4ea2-4cf4-a9e0-e64368f87b92",
   "metadata": {},
   "source": [
    "#### 6. Completeness: \n",
    "Ensure that no critical data is missing. This might mean checking for null values or required fields that are empty.\n",
    "\n",
    "We will start by checking the dataset for missing or null values. For this, we can use the isna() method which returns a dataframe of boolean values indicating if a field is null or not. To group all missing values by column, we can include the sum() method."
   ]
  },
  {
   "cell_type": "code",
   "execution_count": 140,
   "id": "48a4de54-a344-4b94-9908-9528c15c13f7",
   "metadata": {},
   "outputs": [
    {
     "data": {
      "text/plain": [
       "player                 0\n",
       "team                   0\n",
       "name                   0\n",
       "position               0\n",
       "height                 0\n",
       "age                    0\n",
       "appearance             0\n",
       "goals                  0\n",
       "assists                0\n",
       "yellow cards           0\n",
       "second yellow cards    0\n",
       "red cards              0\n",
       "goals conceded         0\n",
       "clean sheets           0\n",
       "minutes played         0\n",
       "days_injured           0\n",
       "games_injured          0\n",
       "award                  0\n",
       "current_value          0\n",
       "highest_value          0\n",
       "position_encoded       0\n",
       "winger                 0\n",
       "dtype: int64"
      ]
     },
     "execution_count": 140,
     "metadata": {},
     "output_type": "execute_result"
    }
   ],
   "source": [
    "#Display number missing values per column\n",
    "df.isna().sum()"
   ]
  },
  {
   "cell_type": "code",
   "execution_count": 37,
   "id": "abec31c4-0904-4b73-8cee-b7bc14ab1e67",
   "metadata": {},
   "outputs": [],
   "source": [
    "# go to clean them \n",
    "# not needed "
   ]
  },
  {
   "cell_type": "markdown",
   "id": "b40de63c-5a1d-49ed-a87e-c5229ee08bbe",
   "metadata": {},
   "source": [
    "#### 7. Check Accuracy:\n",
    "\n",
    "Verify that the data is correct and precise. This could involve comparing data samples with known sources or using validation rules.\n",
    "\n",
    "**The process includes:**\n",
    "1. Validating the appropriateness of data types for the dataset.\n",
    "2. Identifying outliers  using established validation  rule"
   ]
  },
  {
   "cell_type": "code",
   "execution_count": 38,
   "id": "68be5334-ae10-4abd-8097-3259fe5e72c8",
   "metadata": {},
   "outputs": [],
   "source": [
    "# check columns types \n",
    "\n",
    "# already checked above "
   ]
  },
  {
   "cell_type": "code",
   "execution_count": 3,
   "id": "8f3c928d",
   "metadata": {},
   "outputs": [],
   "source": [
    "df['height'] = df['height'].astype('int')\n",
    "df['age'] = df['age'].astype('int')"
   ]
  },
  {
   "cell_type": "code",
   "execution_count": 84,
   "id": "c69b303a-5459-45f9-a28e-fcee45c21c05",
   "metadata": {},
   "outputs": [
    {
     "name": "stdout",
     "output_type": "stream",
     "text": [
      "Outliers in 'age' column: [41.0, 40.0, 40.0, 41.0, 41.0, 42.0, 40.0, 40.0, 40.0, 41.0, 42.0, 40.0, 40.0, 42.0, 40.0, 42.0, 40.0, 40.0, 42.0, 40.0, 40.0, 40.0, 40.0, 42.0, 41.0, 42.0, 40.0, 40.0, 40.0, 43.0, 40.0, 40.0, 41.0]\n",
      "Outliers in 'yellow cards' column: [0.725806452, 0.69124424, 0.583333333, 0.625, 0.646636185, 0.846599132, 0.555555556, 0.625, 0.563506261, 0.765492102, 0.849056604, 0.743801653, 0.673652695, 0.65060241, 0.553505535, 0.94488189, 0.577259475, 0.619977038, 1.032110092, 0.551639595, 0.833976834, 0.652173913, 0.547112462, 0.578158458, 0.632022472, 0.586956522, 0.557275542, 0.597609562, 0.903614458, 0.569105691, 1.285714286, 0.841121495, 1.0, 0.735694823, 0.737704918, 0.666666667, 0.972972973, 0.9375, 1.23853211, 0.865384615, 0.655737705, 5.0, 0.825688073, 0.559006211, 0.97826087, 2.307692308, 0.841121495, 1.525423729, 1.19205298, 0.649819495, 1.285714286, 0.76056338, 0.548780488, 0.697674419, 0.692307692, 0.608108108, 0.873786408, 2.903225806, 0.656934307, 0.882352941, 1.0, 0.666666667, 0.721925134, 0.820668693, 1.034482759, 0.6, 2.045454545, 1.184210526, 3.829787234, 4.285714286, 2.093023256, 0.6, 0.725806452, 0.72, 0.876623377, 0.725806452, 1.875, 0.610169492, 1.8, 0.639810427, 0.652173913, 1.2, 0.6271777, 1.0, 0.918367347, 0.692307692, 6.0, 2.571428571, 1.621621622, 0.582524272, 0.847058824, 0.947368421, 0.555555556, 1.0, 0.769230769, 8.181818182, 0.703125, 0.571428571, 2.045454545, 0.656934307, 1.363636364, 1.368821293, 1.914893617, 2.0, 0.8, 0.736196319, 10.0, 0.592105263, 2.432432432, 0.72, 0.638297872, 1.153846154, 0.642092747, 0.555555556, 0.75, 0.770053476, 0.742924528, 0.705521472, 12.85714286, 0.778658976, 1.935483871, 0.762711864, 0.930232558, 0.637168142, 0.554294976, 0.553846154, 0.796045786, 0.628637951, 0.583153348, 0.723182001, 0.633802817, 0.569105691, 0.792109256, 0.560271647, 1.232876712, 0.55785124, 0.676691729, 0.581896552, 0.740740741, 1.551724138, 0.569620253, 1.084337349, 0.738377393, 1.551724138, 0.570393843, 0.602006689, 0.739726027, 0.616907845, 0.70977918, 0.574875798, 0.648414986, 0.545454545, 0.605381166, 0.661764706, 0.573857598, 0.664206642, 1.2, 1.2, 0.5625, 0.588235294, 0.862619808, 0.555555556, 0.640569395, 0.683544304, 0.572727273, 0.555555556, 0.97826087, 0.587275693, 1.343283582, 0.549199085, 1.0, 0.566037736, 2.307692308, 0.957446809, 0.865384615, 0.618556701, 0.541516245, 1.244239631, 0.557275542, 0.825688073, 7.5, 1.0, 1.258741259, 0.75, 0.598006645, 0.5625, 1.153846154, 0.634547591, 0.671641791, 1.395348837, 0.715705765, 0.849056604, 1.525423729, 0.574468085, 0.957446809, 0.957446809, 0.857142857, 1.475409836, 0.671641791, 0.59772296, 1.40625, 0.87804878, 0.845070423, 0.675675676, 0.708661417, 0.810810811, 0.744827586, 0.927835052, 0.666666667, 2.045454545, 0.692307692, 0.762711864, 0.865384615, 0.873786408, 0.656934307, 0.957446809, 0.692307692, 0.622119816, 0.661764706, 0.574468085, 0.549450549, 2.195121951, 1.267605634, 0.610859729, 1.153846154, 0.681818182, 0.687022901, 0.994475138, 2.045454545, 0.642857143, 0.625, 0.555555556, 0.72, 0.75, 0.587686567, 0.652173913, 0.59602649, 1.855670103, 1.034482759, 0.875912409, 1.730769231, 4.736842105, 1.333333333, 0.9375, 1.125, 0.57168784, 0.703125, 1.0, 0.649819495, 0.9375, 0.832049307, 2.045454545, 0.614334471, 0.57106599, 0.676691729, 0.708661417, 0.559006211, 0.546282246, 0.775862069, 0.676691729, 0.5625, 1.5, 30.0, 0.962566845, 0.950704225, 0.570824524, 0.718085106, 0.9375, 1.0, 0.631578947, 0.605381166, 0.743801653, 0.584415584, 0.725806452, 2.307692308, 0.576923077, 4.736842105, 0.662983425, 0.731707317, 0.576923077, 0.75, 0.559006211, 1.0, 0.594713656, 1.578947368, 1.168831169, 0.75, 0.725806452, 0.613915416, 7.5, 0.573248408, 0.962566845, 1.011235955, 0.72, 1.216216216, 0.628930818, 1.168831169, 1.0, 2.368421053, 0.5625, 2.8125, 0.566037736, 0.576923077, 0.762711864, 0.553846154, 0.571428571, 0.712871287, 0.559006211, 0.957446809, 0.633802817, 0.967741935, 0.967741935, 2.368421053, 0.833333333, 0.967741935, 0.732700136, 0.863309353, 0.618556701, 1.323529412, 1.139240506, 1.247113164, 1.5, 0.775862069, 11.25, 1.730769231, 0.564617315, 2.0, 0.593406593, 0.548780488, 1.255813953, 0.666666667, 0.568421053, 0.671641791, 1.0, 6.0, 0.880626223, 0.656934307, 0.671641791, 1.267605634, 0.841121495, 0.629370629, 0.780346821, 0.626086957, 1.384615385, 1.144067797, 0.638297872, 0.652173913, 1.0, 0.642857143, 1.097560976, 0.642857143, 0.620689655, 0.789473684, 0.69124424, 0.560165975, 0.72972973, 0.684410646, 0.556701031, 0.772532189, 0.547445255, 1.039794608, 0.681818182, 0.658536585]\n",
      "Outliers in 'assists' column: [0.345489443, 0.557620818, 0.405405405, 0.345067968, 0.394390885, 0.467625899, 0.830769231, 0.35971223, 0.36012004, 0.436167267, 0.346361996, 0.576758758, 0.581839553, 0.416088766, 0.366076876, 0.336418654, 0.357516203, 0.561576355, 0.362215909, 0.361930295, 0.46018992, 0.517241379, 0.501858736, 0.401486989, 0.348945409, 0.387931034, 0.367722165, 0.464654488, 0.498960499, 0.613690008, 0.371243371, 0.336658354, 0.375, 0.372799448, 0.400197628, 0.349805664, 0.33949453, 0.483870968, 0.845070423, 0.365029292, 0.402504472, 0.366656221, 0.396200185, 0.445629404, 0.363196126, 0.346320346, 0.478029937, 0.429799427, 0.395683453, 0.365853659, 0.579088472, 0.39184953, 0.355263158, 0.564789688, 0.3515625, 0.458891013, 0.33933162, 0.372697415, 0.794117647, 0.457239627, 0.43373494, 0.380673499, 0.395256917, 0.408502159, 0.398230088, 0.48151751, 0.3930131, 0.401785714, 0.444718962, 0.353114272, 0.335716506, 0.531093963, 0.480801336, 0.456081081, 0.339281226, 0.341555977, 0.401337793, 0.377622378, 0.425733207, 0.401134522, 0.363337321, 0.463201235, 0.652173913, 0.334946036, 0.345987506, 0.337470908, 0.363269425, 0.502325581, 0.39408867, 0.482142857, 0.49704142, 0.4, 0.351159054, 0.345415778, 0.407585621, 0.355965722, 0.43373494, 0.391304348, 0.348187419, 0.407854985, 0.479744136, 0.483945306, 0.433386838, 0.41221374, 0.356032778, 0.388768898, 0.350103734, 0.520231214, 0.367097213, 0.369325468, 0.461065574, 0.367346939, 0.386183222, 0.354749704, 0.340909091, 0.349378882, 0.483447845, 0.406714009, 0.345300082, 0.36175164, 0.497925311, 0.494505495, 0.335820896, 0.423529412, 0.490463215, 0.348162476, 0.72, 0.36437247, 0.666666667, 0.740740741, 0.545454545, 0.402985075, 0.471204188, 0.490463215, 2.045454545, 0.424528302, 0.336291453, 0.873786408, 0.380549683, 0.403587444, 0.445544554, 0.386266094, 0.465288035, 0.346820809, 0.909090909, 0.918367347, 0.477876106, 0.346153846, 0.401785714, 1.153846154, 0.532544379, 0.519230769, 1.011235955, 0.43902439, 1.0, 0.34026465, 0.376884422, 1.384615385, 0.413793103, 0.333333333, 0.367722165, 0.833333333, 0.523255814, 0.36, 0.422535211, 0.34761236, 0.445544554, 0.52173913, 0.342907386, 0.503496503, 0.342205323, 0.731707317, 0.636042403, 0.654069767, 0.376061464, 0.36437247, 0.405512854, 0.396644868, 0.34351145, 1.333333333, 0.355146333, 0.432692308, 0.375312761, 0.391872279, 0.356976202, 0.35053554, 0.411530815, 0.349288486, 0.374331551, 0.338186942, 0.400890869, 0.477031802, 0.390738061, 0.380184332, 0.428009183, 0.390879479, 0.33809166, 0.355263158, 0.366598778, 0.335917313, 0.340557276, 0.335977601, 0.542168675, 0.412844037, 0.554272517, 0.424128181, 0.336553443, 0.341232227, 0.346725371, 0.34463895, 0.489130435, 3.461538462, 0.398230088, 0.45212766, 0.947368421, 0.465663217, 0.415188077, 0.624518119, 0.361518377, 0.360908956, 0.467590302, 0.37986132, 0.392370572, 0.336283186, 0.475264036, 0.625188765, 0.472027972, 0.457821111, 0.401707743, 0.43315508, 0.478214665, 0.454436163, 0.509708738, 0.549898167, 0.420560748, 0.430050438, 0.407239819, 0.379289585, 0.352664577, 0.38961039, 0.786026201, 0.996309963, 0.432692308, 0.467532468, 0.335820896, 0.355731225, 0.456852792, 0.490909091, 2.903225806, 0.717131474, 0.34351145, 0.3930131, 0.428571429, 0.339622642, 1.764705882, 0.413793103, 0.490463215, 0.551301685, 0.566037736, 0.4400978, 0.339943343, 0.426540284, 1.034482759, 0.346153846, 0.365111562, 0.497237569, 1.0, 0.355731225, 0.409090909, 0.334572491, 0.629370629, 0.439882698, 1.153846154, 0.423031727, 0.355029586, 0.5, 0.383250532, 0.606060606, 0.422535211, 0.553278689, 0.352941176, 0.507399577, 0.461538462, 0.375521558, 0.333333333, 0.368852459, 0.4, 1.343283582, 0.467532468, 0.434782609, 0.412844037, 1.956521739, 0.445544554, 1.184210526, 0.569620253, 0.432692308, 0.425531915, 0.401785714, 0.703125, 0.515759312, 0.401785714, 1.730769231, 0.435483871, 1.022727273, 0.496780129, 0.395778364, 0.517241379, 0.481283422, 0.546780073, 0.532544379, 0.535714286, 0.405405405, 1.0, 0.841121495, 0.362903226, 0.438489647, 0.38961039, 0.358565737, 0.789473684, 0.34351145, 0.361445783, 0.681818182, 0.387931034, 0.960854093, 0.385989993, 0.354330709, 4.0, 0.576923077, 1.0, 0.687022901, 0.559006211, 0.36, 0.511363636, 0.81570997, 1.111111111, 1.764705882, 1.25, 1.0, 0.5, 0.359281437, 0.357142857, 0.559006211, 0.4, 1.2, 0.6, 0.697674419, 1.216216216, 0.425388251, 0.417771883, 0.780346821, 0.509626274, 0.4, 0.452261307, 0.407239819, 0.517241379, 0.849056604, 1.0, 0.334572491, 0.5625, 0.664206642, 0.334572491, 0.392156863, 0.338345865, 0.642857143, 0.465631929, 1.914893617, 0.543202033, 0.520231214, 2.647058824, 0.346598203, 0.569620253, 0.407239819, 0.502680965, 0.415704388, 0.393873085, 2.0, 0.350877193, 0.555555556, 0.365111562, 0.593406593, 0.501392758, 0.588235294, 0.422932331, 0.393586006, 0.822454308, 0.390455531, 0.692307692, 0.537848606, 0.346153846, 0.348837209, 0.374220374, 0.67887931, 0.478723404, 0.414746544, 0.381355932, 0.666666667, 0.345670391, 0.514285714, 0.420560748, 0.5, 0.405770965, 0.414746544, 0.569620253, 0.443349754, 1.034482759, 1.159793814, 0.339389784, 0.371900826, 0.511363636, 0.746887967, 0.423387097, 0.486486486, 0.796460177]\n",
      "Outliers in 'minutes played' column: [9390, 9025, 9120, 9240, 9033, 9510, 8970, 9208]\n",
      "Outliers in 'days_injured' column: [510, 697, 932, 554, 624, 664, 555, 721, 578, 760, 872, 535, 587, 459, 718, 635, 458, 510, 564, 617, 498, 1088, 647, 516, 605, 584, 506, 1060, 614, 732, 587, 549, 761, 470, 697, 771, 675, 490, 524, 610, 756, 991, 608, 503, 700, 827, 549, 868, 995, 607, 850, 593, 569, 696, 527, 535, 558, 468, 554, 510, 487, 599, 1570, 670, 455, 618, 464, 828, 566, 568, 928, 638, 519, 460, 1290, 471, 540, 652, 876, 663, 580, 456, 483, 760, 546, 487, 518, 1071, 557, 516, 983, 513, 591, 693, 459, 834, 485, 495, 456, 531, 536, 497, 500, 491, 678, 763, 695, 528, 778, 461, 677, 783, 575, 500, 661, 526, 498, 712, 1006, 494, 841, 517, 1183, 517, 890, 814, 724, 694, 525, 689, 509, 569, 549, 487, 464, 690, 1144, 929, 617, 693, 561, 579, 565, 813, 553, 516, 992, 624, 470, 546, 902, 587, 636, 1070, 576, 453, 503, 872, 704, 467, 466, 465, 553, 521, 784, 694, 643, 537, 782, 478, 730, 535, 957, 739, 533, 520, 472, 534, 457, 779, 813, 552, 631, 490, 482, 730, 643, 520, 527, 478, 518, 554, 853, 470, 467, 488, 512, 582, 463, 663, 458, 461, 701, 734, 567, 851, 675, 564, 884, 610, 589, 484, 630, 544, 859, 613, 481, 507, 987, 638, 475, 688, 603, 459, 705, 470, 465, 631, 581, 458, 509, 513, 630, 488, 568, 465, 465, 478, 486, 454, 592, 863, 581, 767, 698, 707, 560, 1456, 616, 859, 546, 460, 1056, 617, 465, 675, 560, 841, 623, 532, 645, 471, 799, 1169, 495, 635, 475, 1058, 1222, 734, 524, 794, 493, 470, 596, 475, 507, 977, 724, 534, 723, 625, 560, 474, 586, 728, 881, 622, 522, 542, 489, 637, 458, 484, 558, 458, 455, 981, 507, 599, 478, 683, 467, 1012, 500, 588, 472, 541, 495, 499, 660, 539, 674, 733, 453, 806, 579, 555, 490, 718, 531, 712, 749, 580, 468, 460, 517, 546, 803, 562, 768, 658, 1141, 502, 468, 518, 578, 565, 517, 598, 532, 470, 590, 534, 616, 549, 509, 584, 641, 550, 524, 542, 582, 715, 455, 598, 678, 573, 546, 586, 641, 471, 1045, 486, 1365, 566, 674, 540, 463, 634, 482, 708, 1179, 841, 532, 659, 1081, 1268, 554, 495, 1232, 507, 671, 529, 589, 1106, 705, 577, 631, 805, 806, 806, 864, 1000, 541, 687, 532, 887, 457, 689, 795, 922, 504, 567, 552, 481, 769, 834, 460, 502, 547, 623, 733, 662, 518, 468, 551, 510, 614, 454, 513, 526, 502, 708, 477, 658, 664, 516, 540, 746, 544, 578, 630, 499, 1006, 877, 551, 692, 556, 724, 679, 517, 617, 672, 602, 460, 504, 560, 2349, 496, 679, 510, 650, 1193, 481, 701, 479, 456, 719, 536, 491, 728, 919, 651, 688, 621, 508, 941, 653, 847, 505, 483, 469, 629, 654, 529, 475, 455, 660, 906, 538, 501, 509, 588, 597, 555, 728, 1075, 648, 984, 910, 693, 638, 549, 467, 509, 512, 645, 476, 804, 521, 489, 607, 629, 895, 465, 492, 513, 587, 456, 578, 577, 696, 534, 745, 497, 465, 481, 647, 620, 629, 960, 621, 471, 465, 463, 718, 661, 834, 527, 811, 499, 726, 661, 620, 469, 1555, 538, 645, 581, 463, 931, 527, 467, 640, 701, 930, 476, 579, 515, 555, 657, 569, 930, 562, 616, 629, 626, 496, 690, 678, 739, 482, 600, 1097, 656, 557, 523, 553, 528, 661, 769, 587, 604, 539, 471, 536, 630, 810, 777, 668, 506, 593, 623, 543, 564, 650, 494, 483, 567, 572, 544, 896, 561, 480, 674, 658, 756, 551, 779, 751, 508, 500, 524, 670, 548, 517, 1307]\n",
      "Outliers in 'award' column: [13, 9, 21, 10, 7, 23, 10, 8, 11, 6, 11, 9, 6, 16, 9, 12, 7, 9, 6, 12, 7, 9, 13, 8, 8, 7, 12, 8, 6, 15, 6, 11, 16, 11, 8, 11, 14, 9, 7, 8, 7, 8, 7, 6, 7, 11, 10, 26, 7, 13, 7, 6, 10, 8, 6, 10, 11, 6, 6, 7, 6, 8, 7, 16, 6, 18, 6, 20, 13, 7, 7, 8, 7, 6, 9, 11, 7, 6, 13, 8, 9, 7, 6, 7, 8, 35, 13, 7, 10, 12, 12, 6, 11, 22, 8, 20, 6, 9, 11, 14, 14, 15, 8, 8, 13, 15, 7, 10, 19, 26, 20, 7, 15, 20, 17, 14, 12, 13, 9, 7, 10, 16, 9, 9, 10, 13, 13, 21, 11, 6, 33, 6, 14, 13, 18, 7, 6, 13, 9, 9, 10, 9, 8, 6, 6, 11, 6, 9, 13, 6, 11, 8, 7, 8, 7, 7, 11, 8, 7, 6, 14, 11, 17, 10, 7, 18, 10, 6, 15, 17, 16, 10, 9, 10, 9, 6, 8, 7, 11, 7, 8, 6, 9, 36, 11, 20, 12, 10, 14, 16, 17, 17, 13, 11, 7, 6, 22, 14, 9, 11, 29, 16, 15, 20, 36, 10, 7, 6, 11, 12, 12, 8, 9, 13, 12, 6, 15, 8, 7, 20, 9, 12, 7, 10, 22, 8, 9, 8, 7, 9, 12, 7, 33, 8, 10, 7, 12, 14, 19, 7, 18, 6, 13, 13, 11, 7, 7, 8, 14, 6, 7, 7, 6, 8, 7, 6, 6, 8, 7, 11, 9, 14, 12, 12, 13, 6, 9, 9, 7, 11, 20, 11, 18, 7, 9, 43, 9, 25, 12, 9, 24, 18, 7, 10, 8, 33, 14, 38, 12, 19, 8, 18, 53, 13, 19, 10, 9, 8, 19, 22, 34, 8, 10, 65, 8, 9, 7, 12, 11, 10, 6, 17, 9, 6, 26, 18, 14, 6, 10, 7, 6, 10, 6, 6, 6, 9, 11, 7, 15, 11, 11, 11, 6, 11, 9, 6, 6, 6, 6, 15, 7, 7, 6, 9, 7, 9, 7, 7, 6, 7, 8, 8, 7, 11, 7, 7, 6, 9, 8, 7, 7, 37, 7, 9, 13, 17, 6, 6, 6, 7, 6, 6, 17, 57, 10, 7, 10, 22, 14, 17, 18, 8, 12, 24, 15, 13, 33, 6, 8, 7, 14, 8, 10, 19, 6, 14, 9, 7, 6, 6, 10, 6, 7, 10, 7, 6, 6, 6, 10, 13, 30, 9, 16, 10, 8, 14, 9, 8, 8, 9, 6, 6, 10, 31, 24, 29, 6, 18, 11, 10, 33, 8, 16, 35, 92, 37, 6, 9, 7, 8, 6, 8, 17, 9, 8, 7, 8, 6, 6, 12, 7, 6, 11, 8, 6, 6, 6, 9, 11, 12, 10, 8, 6, 17, 6, 6, 13, 7, 33, 8, 14, 20, 6, 26, 15, 7, 18, 6, 7, 9, 14, 7, 23, 6, 11, 6, 6, 28, 6, 13, 6, 6, 8, 6, 9, 6, 10, 8, 6, 10, 6, 32, 19, 7, 24, 8, 16, 6, 9, 7, 9, 8, 6, 8, 6, 14, 7, 6, 7, 10, 25, 18, 9, 7, 6, 27, 10, 13, 7, 9, 7, 16, 8, 8, 6, 6, 15, 8, 6, 7, 15, 10, 6, 11, 7, 7, 6, 10, 7, 15, 9, 8, 9, 9, 10, 32, 11, 8, 7, 14, 8, 6, 8, 7, 7, 13, 10, 12, 9, 8, 6, 6, 7, 22, 10, 7, 20, 7, 14, 8, 9, 8, 7, 8, 7, 6, 7, 11, 11, 9, 14, 7, 8, 8, 6, 9, 7, 6, 7, 8, 14, 7, 8, 7, 11, 6, 8, 6, 8, 9, 21, 8, 12, 6, 6, 10, 9, 7, 9, 7, 11, 6, 18, 7, 7, 6, 9, 7, 6, 7, 6, 7, 9, 6, 7, 8, 8, 18, 7, 13, 7, 9, 9, 8, 7, 7, 25, 10, 7, 8, 9, 6, 7, 11, 6, 11, 6, 10, 10, 8, 8, 8, 13, 7, 12, 7, 9, 18, 9, 9, 6, 8, 6, 9, 7, 8, 7, 6, 6, 8, 7, 9, 6, 7, 7, 7, 10, 15, 14, 13, 8, 6, 6, 8, 7, 21, 9, 10, 11, 8, 7, 9, 6, 9, 9, 10, 6, 7, 10, 8, 8, 7, 9, 6, 9, 11, 6, 13, 6, 6, 8, 6, 7, 7, 6, 9, 13, 6, 13, 7, 7, 11, 18, 13, 7, 14, 6, 6, 12, 17, 6, 6, 6, 7, 9, 6, 7, 8, 11, 19, 10, 9, 25, 6, 9, 6, 8, 8, 6, 8, 7, 7, 6, 7, 6, 14, 6, 23, 11, 9, 6, 9, 6, 6, 6, 7, 7, 9, 8, 8, 7, 6, 7, 20, 19, 7, 7, 12, 6, 7, 7, 9, 8, 9, 7, 10, 6, 6, 6, 13, 6, 27, 8, 9, 8, 8, 7, 9, 10, 7, 7, 6, 11, 7, 12, 11, 10, 8, 6, 8, 13, 7, 7, 8, 8, 7, 17, 7, 14, 10, 9, 8, 15, 9, 10, 10, 12, 10, 9, 11, 10, 6, 6, 11, 6, 9, 6, 6, 8, 12, 10, 8, 6, 7, 13, 10, 6, 8, 9, 7, 7, 7, 7, 7, 17, 12, 13, 6, 9, 7, 6, 10, 7, 7, 6, 8, 9, 42, 7, 8, 6, 11, 10, 7, 7, 6, 11, 7, 7, 7, 6, 8, 6, 11, 6, 10, 11, 10, 6, 14, 6, 11, 11, 7, 7, 14, 6, 7, 10, 6, 7, 7, 9, 6, 7, 7, 6, 8, 15, 14, 12, 11, 9, 7, 15, 7, 7, 7, 6, 6, 6, 6, 9, 14, 6, 13, 6, 7, 19, 9, 10, 6, 15, 16, 13, 7, 12, 10, 9, 19, 8, 6, 17, 8, 14, 6, 7, 7, 7, 7, 11, 12, 6, 90, 8, 6, 9, 6, 7, 6, 6, 7, 6, 12, 6, 9, 10, 6, 6, 6, 6, 6, 6, 6, 9, 14, 10, 6, 6, 6, 6, 6, 15, 7, 7, 6, 9, 7, 6, 7, 6, 8, 7, 16, 12, 15, 9, 7, 7, 10, 13, 9, 8, 13, 7, 9, 8, 8, 7, 17, 11, 7, 9, 6, 7, 9, 6, 8, 14, 6, 6, 7, 8, 13]\n"
     ]
    }
   ],
   "source": [
    "\n",
    "def detect(df):\n",
    "\n",
    "    outliers = {}\n",
    "    \n",
    "    for col in df.columns:\n",
    "        if df[col].dtype in ['int64', 'float64']:\n",
    "            \n",
    "            Q1 = df[col].quantile(0.25)\n",
    "            Q3 = df[col].quantile(0.75)\n",
    "            \n",
    "           \n",
    "            IQR = Q3 - Q1\n",
    "            \n",
    "          \n",
    "            lower_bound = Q1 - 1.5 * IQR\n",
    "            upper_bound = Q3 + 1.5 * IQR\n",
    "            \n",
    "            outliers[col] = df[(df[col] < lower_bound) | (df[col] > upper_bound)][col].tolist()\n",
    "    \n",
    "    return outliers\n",
    "\n",
    "outliers = detect(df)\n",
    "\n",
    "for col, values in outliers.items():\n",
    "    if values:\n",
    "        print(f\"Outliers in '{col}' column: {values}\") "
   ]
  },
  {
   "cell_type": "code",
   "execution_count": 41,
   "id": "f9049027",
   "metadata": {},
   "outputs": [
    {
     "data": {
      "text/plain": [
       "'def detect(df):\\n\\n    outliers = {}\\n    \\n    for col in df.columns:\\n        if df[col].dtype in [\\'int64\\', \\'float64\\']:\\n            \\n            lower_bound = df[col].quantile(0.05)\\n            upper_bound = df[col].quantile(0.95)\\n            \\n            df = df[~((df[col] < lower_bound) | (df[col] > upper_bound))]\\n    return outliers\\n\\noutliers = detect(df)\\n\\nfor col, values in outliers.items():\\n    if values:\\n        print(f\"Outliers in \\'{col}\\' column: {values}\")'"
      ]
     },
     "execution_count": 41,
     "metadata": {},
     "output_type": "execute_result"
    }
   ],
   "source": [
    "'''def detect(df):\n",
    "\n",
    "    outliers = {}\n",
    "    \n",
    "    for col in df.columns:\n",
    "        if df[col].dtype in ['int64', 'float64']:\n",
    "            \n",
    "            lower_bound = df[col].quantile(0.05)\n",
    "            upper_bound = df[col].quantile(0.95)\n",
    "            \n",
    "            df = df[~((df[col] < lower_bound) | (df[col] > upper_bound))]\n",
    "    return outliers\n",
    "\n",
    "outliers = detect(df)\n",
    "\n",
    "for col, values in outliers.items():\n",
    "    if values:\n",
    "        print(f\"Outliers in '{col}' column: {values}\")'''"
   ]
  },
  {
   "cell_type": "code",
   "execution_count": 42,
   "id": "fe1efe06",
   "metadata": {},
   "outputs": [
    {
     "data": {
      "text/plain": [
       "'def detect(df):\\n    outliers = {}\\n    \\n    for col in df.columns:\\n        if df[col].dtype in [\\'int64\\', \\'float64\\']:\\n           \\n            df[f\"{col}_z_score\"] = (df[col] - df[col].mean()) / df[col].std()\\n            \\n            \\n            outliers[col] = df[(df[f\"{col}_z_score\"] > 3) | (df[f\"{col}_z_score\"] < -3)][col].tolist()\\n    \\n    return outliers\\n\\n\\noutliers = detect(df)\\n\\n\\nfor col, values in outliers.items():\\n    if values:\\n        print(f\"Outliers in \\'{col}\\' column: {values}\")'"
      ]
     },
     "execution_count": 42,
     "metadata": {},
     "output_type": "execute_result"
    }
   ],
   "source": [
    "'''def detect(df):\n",
    "    outliers = {}\n",
    "    \n",
    "    for col in df.columns:\n",
    "        if df[col].dtype in ['int64', 'float64']:\n",
    "           \n",
    "            df[f\"{col}_z_score\"] = (df[col] - df[col].mean()) / df[col].std()\n",
    "            \n",
    "            \n",
    "            outliers[col] = df[(df[f\"{col}_z_score\"] > 3) | (df[f\"{col}_z_score\"] < -3)][col].tolist()\n",
    "    \n",
    "    return outliers\n",
    "\n",
    "\n",
    "outliers = detect(df)\n",
    "\n",
    "\n",
    "for col, values in outliers.items():\n",
    "    if values:\n",
    "        print(f\"Outliers in '{col}' column: {values}\")'''"
   ]
  },
  {
   "cell_type": "code",
   "execution_count": 43,
   "id": "4e66d611-6958-4860-8522-9ada7fce40b0",
   "metadata": {},
   "outputs": [],
   "source": [
    "# go to delete ouliers\n",
    "# done above"
   ]
  },
  {
   "cell_type": "markdown",
   "id": "98548b66-e309-4eb8-a5dc-65fe0abbf1e8",
   "metadata": {},
   "source": [
    "## 3. Univariate Analysis: \n",
    "\n",
    "This involves examining single variables to understand their characteristics (distribution, central tendency, dispersion, and shape).\n",
    "\n",
    "We calculate **numerical values** about the data that tells us about the distribution of the data. We also **draw graphs** showing visually how the data is distributed. **To answer the following questions about Features/characteristics of Data:**\n",
    "- Where is the center of the data? (location)\n",
    "- How much does the data vary? (scale)\n",
    "- What is the shape of the data? (shape)\n",
    "\n",
    "**The benefits of this analysis:**\n",
    "Statistics summary gives a high-level idea to identify whether the data has any outliers, data entry error, distribution of data such as the data is normally distributed or left/right skewed\n",
    "\n",
    "**In this step, we will explore variables one by one using following approaches:**"
   ]
  },
  {
   "cell_type": "markdown",
   "id": "f09bb809-0edd-432b-bf23-abd0840b3e16",
   "metadata": {},
   "source": [
    "## 4. Bivariate/Multivariate Analysis:\n",
    "\n",
    "Here, you look at the relationships between two or more variables. This can involve looking for correlations, patterns, and trends that suggest a relationship or an association.\n",
    "\n",
    "We can perform bi-variate analysis for any combination of categorical and numerical variables. The combination can be:\n",
    "| bi-variate variables   | Plot type |\n",
    "| ------------- | ------------- |\n",
    "| Categorical & Categorical| Stacked Bar Chart |\n",
    "| Categorical & numerical  | scatter plot, histogram, box plot|\n",
    "| numerical  & numerical  | Scatter plot, line chart| \n",
    "\n",
    "\n",
    "Multivariate Analysis:\n",
    "- Heat map\n",
    "- Bar Chart\n",
    "- Scatter Chart\n",
    "- Line Chart"
   ]
  },
  {
   "cell_type": "markdown",
   "id": "838f2864-ce9e-4f15-99c8-052d053154a7",
   "metadata": {},
   "source": [
    "**Categorical & Categorical --> (Stacked Column Chart)**"
   ]
  },
  {
   "cell_type": "markdown",
   "id": "730e088f-fe13-40da-8fbb-686f5135fa4d",
   "metadata": {},
   "source": [
    "**Categorical & numerical --> (scatter plot, histogram, box plot)**"
   ]
  },
  {
   "cell_type": "code",
   "execution_count": 141,
   "id": "04f3ea6b",
   "metadata": {},
   "outputs": [
    {
     "data": {
      "image/png": "[encoded data removed]",
      "text/plain": [
       "<Figure size 1200x800 with 20 Axes>"
      ]
     },
     "metadata": {},
     "output_type": "display_data"
    }
   ],
   "source": [
    "df.hist(figsize=(12,8),bins=20)\n",
    "plt.tight_layout()\n",
    "plt.show()"
   ]
  },
  {
   "cell_type": "code",
   "execution_count": 35,
   "id": "692eabf1",
   "metadata": {},
   "outputs": [
    {
     "data": {
      "image/png": "[encoded data removed]",
      "text/plain": [
       "<Figure size 800x600 with 1 Axes>"
      ]
     },
     "metadata": {},
     "output_type": "display_data"
    }
   ],
   "source": [
    "ages = df['age']\n",
    "\n",
    "plt.figure(figsize=(8, 6))\n",
    "plt.hist(ages, bins=10, edgecolor='black', facecolor='darkred', alpha=0.7)\n",
    "\n",
    "plt.xlabel('Age')\n",
    "plt.ylabel('Count')\n",
    "plt.title('Distribution of Player Ages')\n",
    "\n",
    "plt.grid(True)\n",
    "plt.show()"
   ]
  },
  {
   "cell_type": "code",
   "execution_count": 36,
   "id": "abc4e97a",
   "metadata": {},
   "outputs": [
    {
     "data": {
      "text/plain": [
       "<AxesSubplot: xlabel='age', ylabel='award'>"
      ]
     },
     "execution_count": 36,
     "metadata": {},
     "output_type": "execute_result"
    },
    {
     "data": {
      "image/png": "[encoded data removed]",
      "text/plain": [
       "<Figure size 1000x400 with 1 Axes>"
      ]
     },
     "metadata": {},
     "output_type": "display_data"
    }
   ],
   "source": [
    "plt.figure(figsize=(10, 4))\n",
    "sns.barplot(data=df, x='age', y='award', alpha=.8)"
   ]
  },
  {
   "cell_type": "code",
   "execution_count": 142,
   "id": "6174212b",
   "metadata": {},
   "outputs": [
    {
     "data": {
      "image/png": "[encoded data removed]",
      "text/plain": [
       "<Figure size 1200x800 with 2 Axes>"
      ]
     },
     "metadata": {},
     "output_type": "display_data"
    }
   ],
   "source": [
    "columns = [ 'age', 'appearance',  'yellow cards', \n",
    "            'red cards','assists',\n",
    "           'minutes played', 'days_injured', 'games_injured', 'award', 'current_value','highest_value']\n",
    "plt.figure(figsize=(12, 8))\n",
    "sns.heatmap(df[columns].corr(), annot=True, fmt='.2f', cmap='RdBu_r', cbar=True)\n",
    "plt.xticks(rotation=90)\n",
    "plt.rcParams.update({'font.size': 8})\n",
    "plt.title('Correlation Matrix')\n",
    "plt.show()"
   ]
  },
  {
   "cell_type": "markdown",
   "id": "8cf42e43",
   "metadata": {},
   "source": [
    "#### 3. Feature engineering"
   ]
  },
  {
   "cell_type": "markdown",
   "id": "5f6f4d6d",
   "metadata": {},
   "source": [
    "on prepare the data for modeling, i performed the following feature engineering step:\n",
    "Encoding Categorical Features: The team and position features was encoded as a numerical value using a one-hot encoding approach.\n",
    "Scaling Features: The numerical features were scaled using standard scaler to ensure they are on a similar scale."
   ]
  },
  {
   "cell_type": "code",
   "execution_count": 4,
   "id": "47f2b197",
   "metadata": {},
   "outputs": [
    {
     "name": "stdout",
     "output_type": "stream",
     "text": [
      "player\n",
      "team\n",
      "name\n",
      "position\n"
     ]
    }
   ],
   "source": [
    "for col in df.select_dtypes(object).columns:\n",
    "  \n",
    "    dummies = pd.get_dummies(df[col], prefix=col, dummy_na=True).astype(int)\n",
    "    \n",
    "    df = df.drop(columns=col)\n",
    "    \n",
    "    df = pd.concat([df, dummies], axis=1)\n",
    "   \n",
    "    print(col)"
   ]
  },
  {
   "cell_type": "code",
   "execution_count": 5,
   "id": "7675e7d2",
   "metadata": {},
   "outputs": [
    {
     "data": {
      "text/html": [
       "<div>\n",
       "<style scoped>\n",
       "    .dataframe tbody tr th:only-of-type {\n",
       "        vertical-align: middle;\n",
       "    }\n",
       "\n",
       "    .dataframe tbody tr th {\n",
       "        vertical-align: top;\n",
       "    }\n",
       "\n",
       "    .dataframe thead th {\n",
       "        text-align: right;\n",
       "    }\n",
       "</style>\n",
       "<table border=\"1\" class=\"dataframe\">\n",
       "  <thead>\n",
       "    <tr style=\"text-align: right;\">\n",
       "      <th></th>\n",
       "      <th>height</th>\n",
       "      <th>age</th>\n",
       "      <th>appearance</th>\n",
       "      <th>goals</th>\n",
       "      <th>assists</th>\n",
       "      <th>yellow cards</th>\n",
       "      <th>second yellow cards</th>\n",
       "      <th>red cards</th>\n",
       "      <th>goals conceded</th>\n",
       "      <th>clean sheets</th>\n",
       "      <th>...</th>\n",
       "      <th>position_Defender Left-Back</th>\n",
       "      <th>position_Defender Right-Back</th>\n",
       "      <th>position_Goalkeeper</th>\n",
       "      <th>position_midfield</th>\n",
       "      <th>position_midfield-AttackingMidfield</th>\n",
       "      <th>position_midfield-CentralMidfield</th>\n",
       "      <th>position_midfield-DefensiveMidfield</th>\n",
       "      <th>position_midfield-LeftMidfield</th>\n",
       "      <th>position_midfield-RightMidfield</th>\n",
       "      <th>position_nan</th>\n",
       "    </tr>\n",
       "  </thead>\n",
       "  <tbody>\n",
       "    <tr>\n",
       "      <th>0</th>\n",
       "      <td>189</td>\n",
       "      <td>32</td>\n",
       "      <td>104</td>\n",
       "      <td>0.000000</td>\n",
       "      <td>0.000000</td>\n",
       "      <td>0.009585</td>\n",
       "      <td>0.0</td>\n",
       "      <td>0.0</td>\n",
       "      <td>1.217252</td>\n",
       "      <td>0.335463</td>\n",
       "      <td>...</td>\n",
       "      <td>0</td>\n",
       "      <td>0</td>\n",
       "      <td>1</td>\n",
       "      <td>0</td>\n",
       "      <td>0</td>\n",
       "      <td>0</td>\n",
       "      <td>0</td>\n",
       "      <td>0</td>\n",
       "      <td>0</td>\n",
       "      <td>0</td>\n",
       "    </tr>\n",
       "    <tr>\n",
       "      <th>1</th>\n",
       "      <td>196</td>\n",
       "      <td>30</td>\n",
       "      <td>15</td>\n",
       "      <td>0.000000</td>\n",
       "      <td>0.000000</td>\n",
       "      <td>0.069018</td>\n",
       "      <td>0.0</td>\n",
       "      <td>0.0</td>\n",
       "      <td>1.242331</td>\n",
       "      <td>0.207055</td>\n",
       "      <td>...</td>\n",
       "      <td>0</td>\n",
       "      <td>0</td>\n",
       "      <td>1</td>\n",
       "      <td>0</td>\n",
       "      <td>0</td>\n",
       "      <td>0</td>\n",
       "      <td>0</td>\n",
       "      <td>0</td>\n",
       "      <td>0</td>\n",
       "      <td>0</td>\n",
       "    </tr>\n",
       "    <tr>\n",
       "      <th>2</th>\n",
       "      <td>188</td>\n",
       "      <td>37</td>\n",
       "      <td>4</td>\n",
       "      <td>0.000000</td>\n",
       "      <td>0.000000</td>\n",
       "      <td>0.000000</td>\n",
       "      <td>0.0</td>\n",
       "      <td>0.0</td>\n",
       "      <td>0.616438</td>\n",
       "      <td>0.924658</td>\n",
       "      <td>...</td>\n",
       "      <td>0</td>\n",
       "      <td>0</td>\n",
       "      <td>1</td>\n",
       "      <td>0</td>\n",
       "      <td>0</td>\n",
       "      <td>0</td>\n",
       "      <td>0</td>\n",
       "      <td>0</td>\n",
       "      <td>0</td>\n",
       "      <td>0</td>\n",
       "    </tr>\n",
       "    <tr>\n",
       "      <th>3</th>\n",
       "      <td>175</td>\n",
       "      <td>25</td>\n",
       "      <td>82</td>\n",
       "      <td>0.028090</td>\n",
       "      <td>0.056180</td>\n",
       "      <td>0.224719</td>\n",
       "      <td>0.0</td>\n",
       "      <td>0.0</td>\n",
       "      <td>0.000000</td>\n",
       "      <td>0.000000</td>\n",
       "      <td>...</td>\n",
       "      <td>0</td>\n",
       "      <td>0</td>\n",
       "      <td>0</td>\n",
       "      <td>0</td>\n",
       "      <td>0</td>\n",
       "      <td>0</td>\n",
       "      <td>0</td>\n",
       "      <td>0</td>\n",
       "      <td>0</td>\n",
       "      <td>0</td>\n",
       "    </tr>\n",
       "    <tr>\n",
       "      <th>4</th>\n",
       "      <td>191</td>\n",
       "      <td>30</td>\n",
       "      <td>63</td>\n",
       "      <td>0.017889</td>\n",
       "      <td>0.017889</td>\n",
       "      <td>0.053667</td>\n",
       "      <td>0.0</td>\n",
       "      <td>0.0</td>\n",
       "      <td>0.000000</td>\n",
       "      <td>0.000000</td>\n",
       "      <td>...</td>\n",
       "      <td>0</td>\n",
       "      <td>0</td>\n",
       "      <td>0</td>\n",
       "      <td>0</td>\n",
       "      <td>0</td>\n",
       "      <td>0</td>\n",
       "      <td>0</td>\n",
       "      <td>0</td>\n",
       "      <td>0</td>\n",
       "      <td>0</td>\n",
       "    </tr>\n",
       "  </tbody>\n",
       "</table>\n",
       "<p>5 rows × 21750 columns</p>\n",
       "</div>"
      ],
      "text/plain": [
       "   height  age  appearance     goals   assists  yellow cards  \\\n",
       "0     189   32         104  0.000000  0.000000      0.009585   \n",
       "1     196   30          15  0.000000  0.000000      0.069018   \n",
       "2     188   37           4  0.000000  0.000000      0.000000   \n",
       "3     175   25          82  0.028090  0.056180      0.224719   \n",
       "4     191   30          63  0.017889  0.017889      0.053667   \n",
       "\n",
       "   second yellow cards  red cards  goals conceded  clean sheets  ...  \\\n",
       "0                  0.0        0.0        1.217252      0.335463  ...   \n",
       "1                  0.0        0.0        1.242331      0.207055  ...   \n",
       "2                  0.0        0.0        0.616438      0.924658  ...   \n",
       "3                  0.0        0.0        0.000000      0.000000  ...   \n",
       "4                  0.0        0.0        0.000000      0.000000  ...   \n",
       "\n",
       "   position_Defender Left-Back  position_Defender Right-Back  \\\n",
       "0                            0                             0   \n",
       "1                            0                             0   \n",
       "2                            0                             0   \n",
       "3                            0                             0   \n",
       "4                            0                             0   \n",
       "\n",
       "   position_Goalkeeper  position_midfield  \\\n",
       "0                    1                  0   \n",
       "1                    1                  0   \n",
       "2                    1                  0   \n",
       "3                    0                  0   \n",
       "4                    0                  0   \n",
       "\n",
       "   position_midfield-AttackingMidfield  position_midfield-CentralMidfield  \\\n",
       "0                                    0                                  0   \n",
       "1                                    0                                  0   \n",
       "2                                    0                                  0   \n",
       "3                                    0                                  0   \n",
       "4                                    0                                  0   \n",
       "\n",
       "   position_midfield-DefensiveMidfield  position_midfield-LeftMidfield  \\\n",
       "0                                    0                               0   \n",
       "1                                    0                               0   \n",
       "2                                    0                               0   \n",
       "3                                    0                               0   \n",
       "4                                    0                               0   \n",
       "\n",
       "   position_midfield-RightMidfield  position_nan  \n",
       "0                                0             0  \n",
       "1                                0             0  \n",
       "2                                0             0  \n",
       "3                                0             0  \n",
       "4                                0             0  \n",
       "\n",
       "[5 rows x 21750 columns]"
      ]
     },
     "execution_count": 5,
     "metadata": {},
     "output_type": "execute_result"
    }
   ],
   "source": [
    "df.head()"
   ]
  },
  {
   "cell_type": "code",
   "execution_count": 5,
   "id": "2fa43ae6",
   "metadata": {},
   "outputs": [
    {
     "name": "stdout",
     "output_type": "stream",
     "text": [
      "Medium_value    7495\n",
      "High_value      1797\n",
      "Low_value       1462\n",
      "Name: player_price_category, dtype: int64\n"
     ]
    }
   ],
   "source": [
    "p15 = df['current_value'].quantile(0.15)\n",
    "p85 = df['current_value'].quantile(0.85)\n",
    "\n",
    "\n",
    "def categorize_price(price):\n",
    "    if price < p15:\n",
    "        return 'Low_value'\n",
    "    elif price < p85:\n",
    "        return 'Medium_value'\n",
    "    else:\n",
    "        return 'High_value'\n",
    "    \n",
    "\n",
    "df['player_price_category'] = df['current_value'].apply(categorize_price)\n",
    "\n",
    "df.drop('current_value', axis=1, inplace=True)\n",
    "\n",
    "print(df['player_price_category'].value_counts())"
   ]
  },
  {
   "cell_type": "code",
   "execution_count": 6,
   "id": "d4e1bf43",
   "metadata": {},
   "outputs": [],
   "source": [
    "encoder = LabelEncoder()\n",
    "df['player_price_category_encoded'] = encoder.fit_transform(df['player_price_category'])  "
   ]
  },
  {
   "cell_type": "code",
   "execution_count": 15,
   "id": "f73ff115",
   "metadata": {},
   "outputs": [
    {
     "name": "stdout",
     "output_type": "stream",
     "text": [
      "player_price_category_encoded    1.000000\n",
      "age                              0.141729\n",
      "yellow cards                     0.030363\n",
      "days_injured                    -0.037837\n",
      "assists                         -0.081448\n",
      "award                           -0.162361\n",
      "appearance                      -0.276098\n",
      "minutes played                  -0.277070\n",
      "Name: player_price_category_encoded, dtype: float64\n"
     ]
    }
   ],
   "source": [
    "correlation = df.corr(numeric_only=True)\n",
    "print(correlation['player_price_category_encoded'].sort_values(ascending=False))"
   ]
  },
  {
   "cell_type": "code",
   "execution_count": 16,
   "id": "d437fbaf",
   "metadata": {},
   "outputs": [
    {
     "data": {
      "text/plain": [
       "Index(['appearance', 'minutes played', 'player_price_category_encoded'], dtype='object')"
      ]
     },
     "execution_count": 16,
     "metadata": {},
     "output_type": "execute_result"
    }
   ],
   "source": [
    "threshold = 0.2\n",
    "selected_features = correlation[abs(correlation['player_price_category_encoded']) > threshold]['player_price_category_encoded'].index\n",
    "selected_features"
   ]
  },
  {
   "cell_type": "code",
   "execution_count": 19,
   "id": "d3e3dc93",
   "metadata": {},
   "outputs": [],
   "source": [
    "selected_features = [ 'age', 'appearance',  'yellow cards','assists',\n",
    "           'minutes played', 'days_injured', 'award','player_price_category_encoded']"
   ]
  },
  {
   "cell_type": "code",
   "execution_count": 20,
   "id": "3b8d966d",
   "metadata": {},
   "outputs": [
    {
     "data": {
      "text/html": [
       "<div>\n",
       "<style scoped>\n",
       "    .dataframe tbody tr th:only-of-type {\n",
       "        vertical-align: middle;\n",
       "    }\n",
       "\n",
       "    .dataframe tbody tr th {\n",
       "        vertical-align: top;\n",
       "    }\n",
       "\n",
       "    .dataframe thead th {\n",
       "        text-align: right;\n",
       "    }\n",
       "</style>\n",
       "<table border=\"1\" class=\"dataframe\">\n",
       "  <thead>\n",
       "    <tr style=\"text-align: right;\">\n",
       "      <th></th>\n",
       "      <th>age</th>\n",
       "      <th>appearance</th>\n",
       "      <th>yellow cards</th>\n",
       "      <th>assists</th>\n",
       "      <th>minutes played</th>\n",
       "      <th>days_injured</th>\n",
       "      <th>award</th>\n",
       "      <th>player_price_category_encoded</th>\n",
       "    </tr>\n",
       "  </thead>\n",
       "  <tbody>\n",
       "    <tr>\n",
       "      <th>0</th>\n",
       "      <td>32.0</td>\n",
       "      <td>104</td>\n",
       "      <td>0.009585</td>\n",
       "      <td>0.000000</td>\n",
       "      <td>9390</td>\n",
       "      <td>42</td>\n",
       "      <td>13</td>\n",
       "      <td>0</td>\n",
       "    </tr>\n",
       "    <tr>\n",
       "      <th>1</th>\n",
       "      <td>30.0</td>\n",
       "      <td>15</td>\n",
       "      <td>0.069018</td>\n",
       "      <td>0.000000</td>\n",
       "      <td>1304</td>\n",
       "      <td>510</td>\n",
       "      <td>1</td>\n",
       "      <td>2</td>\n",
       "    </tr>\n",
       "    <tr>\n",
       "      <th>2</th>\n",
       "      <td>37.0</td>\n",
       "      <td>4</td>\n",
       "      <td>0.000000</td>\n",
       "      <td>0.000000</td>\n",
       "      <td>292</td>\n",
       "      <td>697</td>\n",
       "      <td>4</td>\n",
       "      <td>2</td>\n",
       "    </tr>\n",
       "    <tr>\n",
       "      <th>3</th>\n",
       "      <td>25.0</td>\n",
       "      <td>82</td>\n",
       "      <td>0.224719</td>\n",
       "      <td>0.056180</td>\n",
       "      <td>6408</td>\n",
       "      <td>175</td>\n",
       "      <td>9</td>\n",
       "      <td>0</td>\n",
       "    </tr>\n",
       "    <tr>\n",
       "      <th>4</th>\n",
       "      <td>30.0</td>\n",
       "      <td>63</td>\n",
       "      <td>0.053667</td>\n",
       "      <td>0.017889</td>\n",
       "      <td>5031</td>\n",
       "      <td>238</td>\n",
       "      <td>21</td>\n",
       "      <td>0</td>\n",
       "    </tr>\n",
       "  </tbody>\n",
       "</table>\n",
       "</div>"
      ],
      "text/plain": [
       "    age  appearance  yellow cards   assists  minutes played  days_injured  \\\n",
       "0  32.0         104      0.009585  0.000000            9390            42   \n",
       "1  30.0          15      0.069018  0.000000            1304           510   \n",
       "2  37.0           4      0.000000  0.000000             292           697   \n",
       "3  25.0          82      0.224719  0.056180            6408           175   \n",
       "4  30.0          63      0.053667  0.017889            5031           238   \n",
       "\n",
       "   award  player_price_category_encoded  \n",
       "0     13                              0  \n",
       "1      1                              2  \n",
       "2      4                              2  \n",
       "3      9                              0  \n",
       "4     21                              0  "
      ]
     },
     "execution_count": 20,
     "metadata": {},
     "output_type": "execute_result"
    }
   ],
   "source": [
    "df = df[selected_features]\n",
    "df.head()"
   ]
  },
  {
   "cell_type": "markdown",
   "id": "70a70a52",
   "metadata": {},
   "source": [
    "#### 4. Prepare train and test data"
   ]
  },
  {
   "cell_type": "code",
   "execution_count": 23,
   "id": "610033d4",
   "metadata": {},
   "outputs": [],
   "source": [
    "#X = df.drop(columns='current_value')\n",
    "#y = df['current_value']\n",
    "\n",
    "\n",
    "#X_train,X_test,y_train,y_test=train_test_split(X,y,test_size=0.2,random_state=42)\n",
    "\n",
    "#scaler = StandardScaler()\n",
    "#scaler.fit(X_train)\n",
    "#X_train_scaled = scaler.transform(X_train)\n",
    "#X_test_scaled = scaler.transform(X_test)\n"
   ]
  },
  {
   "cell_type": "code",
   "execution_count": 22,
   "id": "6fc737d3",
   "metadata": {},
   "outputs": [],
   "source": [
    "X = df.drop(['player_price_category_encoded'], axis=1)\n",
    "y = df['player_price_category_encoded']\n",
    "\n",
    "\n",
    "X_train, X_test, y_train, y_test = train_test_split(X, y,\n",
    "                                                    test_size=0.2,\n",
    "                                                    shuffle=True,\n",
    "                                                    random_state=42)\n",
    "\n",
    "\n",
    "#scaler = StandardScaler()\n",
    "#scaler.fit(X_train)\n",
    "#X_train_scaled = scaler.transform(X_train)\n",
    "#X_test_scaled = scaler.transform(X_test)"
   ]
  },
  {
   "cell_type": "markdown",
   "id": "f494a0a0",
   "metadata": {},
   "source": [
    "## Buliding the Model"
   ]
  },
  {
   "cell_type": "code",
   "execution_count": 90,
   "id": "0216d431",
   "metadata": {},
   "outputs": [],
   "source": [
    "#logistic_model = LogisticRegression()"
   ]
  },
  {
   "cell_type": "code",
   "execution_count": 91,
   "id": "26fd1e94",
   "metadata": {},
   "outputs": [],
   "source": [
    "#ridge_model = Ridge(alpha=0.1)"
   ]
  },
  {
   "cell_type": "code",
   "execution_count": 92,
   "id": "b91e4d52",
   "metadata": {},
   "outputs": [
    {
     "name": "stdout",
     "output_type": "stream",
     "text": [
      "GridSearchCV(cv=5, estimator=Ridge(alpha=0.1),\n",
      "             param_grid={'alpha': [0.1, 1, 10, 100, 1000]},\n",
      "             scoring='neg_mean_squared_error', verbose=1)\n"
     ]
    }
   ],
   "source": [
    "#param_grid = {\n",
    " #   'alpha': [0.1, 1, 10, 100, 1000]}\n",
    "#grid_search = GridSearchCV(estimator=ridge_model, param_grid=param_grid, cv=5, scoring='neg_mean_squared_error', verbose=1)\n",
    "#print(grid_search)"
   ]
  },
  {
   "cell_type": "code",
   "execution_count": 24,
   "id": "31a58d2f",
   "metadata": {},
   "outputs": [],
   "source": [
    "dt_classifier = DecisionTreeClassifier()\n",
    "rf_classifier = RandomForestClassifier()"
   ]
  },
  {
   "cell_type": "code",
   "execution_count": 29,
   "id": "3f51e57c",
   "metadata": {},
   "outputs": [],
   "source": [
    "param_grid = {\n",
    "    'max_depth': [4, 5, 6, 7, 8, 12],   \n",
    "    'n_estimators':[35, 40, 46, 66]\n",
    "}\n",
    "grid_search = GridSearchCV(estimator=rf_classifier,\n",
    "                           param_grid=param_grid,\n",
    "                           cv=5,\n",
    "                           scoring='f1_macro', \n",
    "                           verbose=1)"
   ]
  },
  {
   "cell_type": "markdown",
   "id": "93acbb32",
   "metadata": {},
   "source": [
    "## Train the Model"
   ]
  },
  {
   "cell_type": "code",
   "execution_count": 63,
   "id": "da379488",
   "metadata": {},
   "outputs": [
    {
     "name": "stderr",
     "output_type": "stream",
     "text": [
      "/opt/anaconda3/lib/python3.11/site-packages/sklearn/linear_model/_logistic.py:458: ConvergenceWarning:\n",
      "\n",
      "lbfgs failed to converge (status=1):\n",
      "STOP: TOTAL NO. of ITERATIONS REACHED LIMIT.\n",
      "\n",
      "Increase the number of iterations (max_iter) or scale the data as shown in:\n",
      "    https://scikit-learn.org/stable/modules/preprocessing.html\n",
      "Please also refer to the documentation for alternative solver options:\n",
      "    https://scikit-learn.org/stable/modules/linear_model.html#logistic-regression\n",
      "\n"
     ]
    },
    {
     "data": {
      "text/html": [
       "<style>#sk-container-id-3 {color: black;background-color: white;}#sk-container-id-3 pre{padding: 0;}#sk-container-id-3 div.sk-toggleable {background-color: white;}#sk-container-id-3 label.sk-toggleable__label {cursor: pointer;display: block;width: 100%;margin-bottom: 0;padding: 0.3em;box-sizing: border-box;text-align: center;}#sk-container-id-3 label.sk-toggleable__label-arrow:before {content: \"▸\";float: left;margin-right: 0.25em;color: #696969;}#sk-container-id-3 label.sk-toggleable__label-arrow:hover:before {color: black;}#sk-container-id-3 div.sk-estimator:hover label.sk-toggleable__label-arrow:before {color: black;}#sk-container-id-3 div.sk-toggleable__content {max-height: 0;max-width: 0;overflow: hidden;text-align: left;background-color: #f0f8ff;}#sk-container-id-3 div.sk-toggleable__content pre {margin: 0.2em;color: black;border-radius: 0.25em;background-color: #f0f8ff;}#sk-container-id-3 input.sk-toggleable__control:checked~div.sk-toggleable__content {max-height: 200px;max-width: 100%;overflow: auto;}#sk-container-id-3 input.sk-toggleable__control:checked~label.sk-toggleable__label-arrow:before {content: \"▾\";}#sk-container-id-3 div.sk-estimator input.sk-toggleable__control:checked~label.sk-toggleable__label {background-color: #d4ebff;}#sk-container-id-3 div.sk-label input.sk-toggleable__control:checked~label.sk-toggleable__label {background-color: #d4ebff;}#sk-container-id-3 input.sk-hidden--visually {border: 0;clip: rect(1px 1px 1px 1px);clip: rect(1px, 1px, 1px, 1px);height: 1px;margin: -1px;overflow: hidden;padding: 0;position: absolute;width: 1px;}#sk-container-id-3 div.sk-estimator {font-family: monospace;background-color: #f0f8ff;border: 1px dotted black;border-radius: 0.25em;box-sizing: border-box;margin-bottom: 0.5em;}#sk-container-id-3 div.sk-estimator:hover {background-color: #d4ebff;}#sk-container-id-3 div.sk-parallel-item::after {content: \"\";width: 100%;border-bottom: 1px solid gray;flex-grow: 1;}#sk-container-id-3 div.sk-label:hover label.sk-toggleable__label {background-color: #d4ebff;}#sk-container-id-3 div.sk-serial::before {content: \"\";position: absolute;border-left: 1px solid gray;box-sizing: border-box;top: 0;bottom: 0;left: 50%;z-index: 0;}#sk-container-id-3 div.sk-serial {display: flex;flex-direction: column;align-items: center;background-color: white;padding-right: 0.2em;padding-left: 0.2em;position: relative;}#sk-container-id-3 div.sk-item {position: relative;z-index: 1;}#sk-container-id-3 div.sk-parallel {display: flex;align-items: stretch;justify-content: center;background-color: white;position: relative;}#sk-container-id-3 div.sk-item::before, #sk-container-id-3 div.sk-parallel-item::before {content: \"\";position: absolute;border-left: 1px solid gray;box-sizing: border-box;top: 0;bottom: 0;left: 50%;z-index: -1;}#sk-container-id-3 div.sk-parallel-item {display: flex;flex-direction: column;z-index: 1;position: relative;background-color: white;}#sk-container-id-3 div.sk-parallel-item:first-child::after {align-self: flex-end;width: 50%;}#sk-container-id-3 div.sk-parallel-item:last-child::after {align-self: flex-start;width: 50%;}#sk-container-id-3 div.sk-parallel-item:only-child::after {width: 0;}#sk-container-id-3 div.sk-dashed-wrapped {border: 1px dashed gray;margin: 0 0.4em 0.5em 0.4em;box-sizing: border-box;padding-bottom: 0.4em;background-color: white;}#sk-container-id-3 div.sk-label label {font-family: monospace;font-weight: bold;display: inline-block;line-height: 1.2em;}#sk-container-id-3 div.sk-label-container {text-align: center;}#sk-container-id-3 div.sk-container {/* jupyter's `normalize.less` sets `[hidden] { display: none; }` but bootstrap.min.css set `[hidden] { display: none !important; }` so we also need the `!important` here to be able to override the default hidden behavior on the sphinx rendered scikit-learn.org. See: https://github.com/scikit-learn/scikit-learn/issues/21755 */display: inline-block !important;position: relative;}#sk-container-id-3 div.sk-text-repr-fallback {display: none;}</style><div id=\"sk-container-id-3\" class=\"sk-top-container\"><div class=\"sk-text-repr-fallback\"><pre>LogisticRegression()</pre><b>In a Jupyter environment, please rerun this cell to show the HTML representation or trust the notebook. <br />On GitHub, the HTML representation is unable to render, please try loading this page with nbviewer.org.</b></div><div class=\"sk-container\" hidden><div class=\"sk-item\"><div class=\"sk-estimator sk-toggleable\"><input class=\"sk-toggleable__control sk-hidden--visually\" id=\"sk-estimator-id-5\" type=\"checkbox\" checked><label for=\"sk-estimator-id-5\" class=\"sk-toggleable__label sk-toggleable__label-arrow\">LogisticRegression</label><div class=\"sk-toggleable__content\"><pre>LogisticRegression()</pre></div></div></div></div></div>"
      ],
      "text/plain": [
       "LogisticRegression()"
      ]
     },
     "execution_count": 63,
     "metadata": {},
     "output_type": "execute_result"
    }
   ],
   "source": [
    "#logistic_model.fit(X_train, y_train)"
   ]
  },
  {
   "cell_type": "code",
   "execution_count": 30,
   "id": "39525cab",
   "metadata": {},
   "outputs": [
    {
     "name": "stdout",
     "output_type": "stream",
     "text": [
      "Fitting 5 folds for each of 24 candidates, totalling 120 fits\n"
     ]
    },
    {
     "data": {
      "text/html": [
       "<style>#sk-container-id-2 {color: black;background-color: white;}#sk-container-id-2 pre{padding: 0;}#sk-container-id-2 div.sk-toggleable {background-color: white;}#sk-container-id-2 label.sk-toggleable__label {cursor: pointer;display: block;width: 100%;margin-bottom: 0;padding: 0.3em;box-sizing: border-box;text-align: center;}#sk-container-id-2 label.sk-toggleable__label-arrow:before {content: \"▸\";float: left;margin-right: 0.25em;color: #696969;}#sk-container-id-2 label.sk-toggleable__label-arrow:hover:before {color: black;}#sk-container-id-2 div.sk-estimator:hover label.sk-toggleable__label-arrow:before {color: black;}#sk-container-id-2 div.sk-toggleable__content {max-height: 0;max-width: 0;overflow: hidden;text-align: left;background-color: #f0f8ff;}#sk-container-id-2 div.sk-toggleable__content pre {margin: 0.2em;color: black;border-radius: 0.25em;background-color: #f0f8ff;}#sk-container-id-2 input.sk-toggleable__control:checked~div.sk-toggleable__content {max-height: 200px;max-width: 100%;overflow: auto;}#sk-container-id-2 input.sk-toggleable__control:checked~label.sk-toggleable__label-arrow:before {content: \"▾\";}#sk-container-id-2 div.sk-estimator input.sk-toggleable__control:checked~label.sk-toggleable__label {background-color: #d4ebff;}#sk-container-id-2 div.sk-label input.sk-toggleable__control:checked~label.sk-toggleable__label {background-color: #d4ebff;}#sk-container-id-2 input.sk-hidden--visually {border: 0;clip: rect(1px 1px 1px 1px);clip: rect(1px, 1px, 1px, 1px);height: 1px;margin: -1px;overflow: hidden;padding: 0;position: absolute;width: 1px;}#sk-container-id-2 div.sk-estimator {font-family: monospace;background-color: #f0f8ff;border: 1px dotted black;border-radius: 0.25em;box-sizing: border-box;margin-bottom: 0.5em;}#sk-container-id-2 div.sk-estimator:hover {background-color: #d4ebff;}#sk-container-id-2 div.sk-parallel-item::after {content: \"\";width: 100%;border-bottom: 1px solid gray;flex-grow: 1;}#sk-container-id-2 div.sk-label:hover label.sk-toggleable__label {background-color: #d4ebff;}#sk-container-id-2 div.sk-serial::before {content: \"\";position: absolute;border-left: 1px solid gray;box-sizing: border-box;top: 0;bottom: 0;left: 50%;z-index: 0;}#sk-container-id-2 div.sk-serial {display: flex;flex-direction: column;align-items: center;background-color: white;padding-right: 0.2em;padding-left: 0.2em;position: relative;}#sk-container-id-2 div.sk-item {position: relative;z-index: 1;}#sk-container-id-2 div.sk-parallel {display: flex;align-items: stretch;justify-content: center;background-color: white;position: relative;}#sk-container-id-2 div.sk-item::before, #sk-container-id-2 div.sk-parallel-item::before {content: \"\";position: absolute;border-left: 1px solid gray;box-sizing: border-box;top: 0;bottom: 0;left: 50%;z-index: -1;}#sk-container-id-2 div.sk-parallel-item {display: flex;flex-direction: column;z-index: 1;position: relative;background-color: white;}#sk-container-id-2 div.sk-parallel-item:first-child::after {align-self: flex-end;width: 50%;}#sk-container-id-2 div.sk-parallel-item:last-child::after {align-self: flex-start;width: 50%;}#sk-container-id-2 div.sk-parallel-item:only-child::after {width: 0;}#sk-container-id-2 div.sk-dashed-wrapped {border: 1px dashed gray;margin: 0 0.4em 0.5em 0.4em;box-sizing: border-box;padding-bottom: 0.4em;background-color: white;}#sk-container-id-2 div.sk-label label {font-family: monospace;font-weight: bold;display: inline-block;line-height: 1.2em;}#sk-container-id-2 div.sk-label-container {text-align: center;}#sk-container-id-2 div.sk-container {/* jupyter's `normalize.less` sets `[hidden] { display: none; }` but bootstrap.min.css set `[hidden] { display: none !important; }` so we also need the `!important` here to be able to override the default hidden behavior on the sphinx rendered scikit-learn.org. See: https://github.com/scikit-learn/scikit-learn/issues/21755 */display: inline-block !important;position: relative;}#sk-container-id-2 div.sk-text-repr-fallback {display: none;}</style><div id=\"sk-container-id-2\" class=\"sk-top-container\"><div class=\"sk-text-repr-fallback\"><pre>GridSearchCV(cv=5, estimator=RandomForestClassifier(),\n",
       "             param_grid={&#x27;max_depth&#x27;: [4, 5, 6, 7, 8, 12],\n",
       "                         &#x27;n_estimators&#x27;: [35, 40, 46, 66]},\n",
       "             scoring=&#x27;f1_macro&#x27;, verbose=1)</pre><b>In a Jupyter environment, please rerun this cell to show the HTML representation or trust the notebook. <br />On GitHub, the HTML representation is unable to render, please try loading this page with nbviewer.org.</b></div><div class=\"sk-container\" hidden><div class=\"sk-item sk-dashed-wrapped\"><div class=\"sk-label-container\"><div class=\"sk-label sk-toggleable\"><input class=\"sk-toggleable__control sk-hidden--visually\" id=\"sk-estimator-id-2\" type=\"checkbox\" ><label for=\"sk-estimator-id-2\" class=\"sk-toggleable__label sk-toggleable__label-arrow\">GridSearchCV</label><div class=\"sk-toggleable__content\"><pre>GridSearchCV(cv=5, estimator=RandomForestClassifier(),\n",
       "             param_grid={&#x27;max_depth&#x27;: [4, 5, 6, 7, 8, 12],\n",
       "                         &#x27;n_estimators&#x27;: [35, 40, 46, 66]},\n",
       "             scoring=&#x27;f1_macro&#x27;, verbose=1)</pre></div></div></div><div class=\"sk-parallel\"><div class=\"sk-parallel-item\"><div class=\"sk-item\"><div class=\"sk-label-container\"><div class=\"sk-label sk-toggleable\"><input class=\"sk-toggleable__control sk-hidden--visually\" id=\"sk-estimator-id-3\" type=\"checkbox\" ><label for=\"sk-estimator-id-3\" class=\"sk-toggleable__label sk-toggleable__label-arrow\">estimator: RandomForestClassifier</label><div class=\"sk-toggleable__content\"><pre>RandomForestClassifier()</pre></div></div></div><div class=\"sk-serial\"><div class=\"sk-item\"><div class=\"sk-estimator sk-toggleable\"><input class=\"sk-toggleable__control sk-hidden--visually\" id=\"sk-estimator-id-4\" type=\"checkbox\" ><label for=\"sk-estimator-id-4\" class=\"sk-toggleable__label sk-toggleable__label-arrow\">RandomForestClassifier</label><div class=\"sk-toggleable__content\"><pre>RandomForestClassifier()</pre></div></div></div></div></div></div></div></div></div></div>"
      ],
      "text/plain": [
       "GridSearchCV(cv=5, estimator=RandomForestClassifier(),\n",
       "             param_grid={'max_depth': [4, 5, 6, 7, 8, 12],\n",
       "                         'n_estimators': [35, 40, 46, 66]},\n",
       "             scoring='f1_macro', verbose=1)"
      ]
     },
     "execution_count": 30,
     "metadata": {},
     "output_type": "execute_result"
    }
   ],
   "source": [
    "grid_search.fit(X_train, y_train)"
   ]
  },
  {
   "cell_type": "code",
   "execution_count": 13,
   "id": "15e6d682",
   "metadata": {},
   "outputs": [
    {
     "data": {
      "text/plain": [
       "0.1"
      ]
     },
     "execution_count": 13,
     "metadata": {},
     "output_type": "execute_result"
    }
   ],
   "source": [
    "#best_alpha = grid_search.best_params_['alpha']\n",
    "#best_alpha"
   ]
  },
  {
   "cell_type": "code",
   "execution_count": 94,
   "id": "956119bb",
   "metadata": {},
   "outputs": [],
   "source": [
    "#ridge_model = Ridge(alpha=best_alpha)\n"
   ]
  },
  {
   "cell_type": "code",
   "execution_count": 95,
   "id": "0aab088e",
   "metadata": {},
   "outputs": [
    {
     "data": {
      "text/html": [
       "<style>#sk-container-id-5 {color: black;background-color: white;}#sk-container-id-5 pre{padding: 0;}#sk-container-id-5 div.sk-toggleable {background-color: white;}#sk-container-id-5 label.sk-toggleable__label {cursor: pointer;display: block;width: 100%;margin-bottom: 0;padding: 0.3em;box-sizing: border-box;text-align: center;}#sk-container-id-5 label.sk-toggleable__label-arrow:before {content: \"▸\";float: left;margin-right: 0.25em;color: #696969;}#sk-container-id-5 label.sk-toggleable__label-arrow:hover:before {color: black;}#sk-container-id-5 div.sk-estimator:hover label.sk-toggleable__label-arrow:before {color: black;}#sk-container-id-5 div.sk-toggleable__content {max-height: 0;max-width: 0;overflow: hidden;text-align: left;background-color: #f0f8ff;}#sk-container-id-5 div.sk-toggleable__content pre {margin: 0.2em;color: black;border-radius: 0.25em;background-color: #f0f8ff;}#sk-container-id-5 input.sk-toggleable__control:checked~div.sk-toggleable__content {max-height: 200px;max-width: 100%;overflow: auto;}#sk-container-id-5 input.sk-toggleable__control:checked~label.sk-toggleable__label-arrow:before {content: \"▾\";}#sk-container-id-5 div.sk-estimator input.sk-toggleable__control:checked~label.sk-toggleable__label {background-color: #d4ebff;}#sk-container-id-5 div.sk-label input.sk-toggleable__control:checked~label.sk-toggleable__label {background-color: #d4ebff;}#sk-container-id-5 input.sk-hidden--visually {border: 0;clip: rect(1px 1px 1px 1px);clip: rect(1px, 1px, 1px, 1px);height: 1px;margin: -1px;overflow: hidden;padding: 0;position: absolute;width: 1px;}#sk-container-id-5 div.sk-estimator {font-family: monospace;background-color: #f0f8ff;border: 1px dotted black;border-radius: 0.25em;box-sizing: border-box;margin-bottom: 0.5em;}#sk-container-id-5 div.sk-estimator:hover {background-color: #d4ebff;}#sk-container-id-5 div.sk-parallel-item::after {content: \"\";width: 100%;border-bottom: 1px solid gray;flex-grow: 1;}#sk-container-id-5 div.sk-label:hover label.sk-toggleable__label {background-color: #d4ebff;}#sk-container-id-5 div.sk-serial::before {content: \"\";position: absolute;border-left: 1px solid gray;box-sizing: border-box;top: 0;bottom: 0;left: 50%;z-index: 0;}#sk-container-id-5 div.sk-serial {display: flex;flex-direction: column;align-items: center;background-color: white;padding-right: 0.2em;padding-left: 0.2em;position: relative;}#sk-container-id-5 div.sk-item {position: relative;z-index: 1;}#sk-container-id-5 div.sk-parallel {display: flex;align-items: stretch;justify-content: center;background-color: white;position: relative;}#sk-container-id-5 div.sk-item::before, #sk-container-id-5 div.sk-parallel-item::before {content: \"\";position: absolute;border-left: 1px solid gray;box-sizing: border-box;top: 0;bottom: 0;left: 50%;z-index: -1;}#sk-container-id-5 div.sk-parallel-item {display: flex;flex-direction: column;z-index: 1;position: relative;background-color: white;}#sk-container-id-5 div.sk-parallel-item:first-child::after {align-self: flex-end;width: 50%;}#sk-container-id-5 div.sk-parallel-item:last-child::after {align-self: flex-start;width: 50%;}#sk-container-id-5 div.sk-parallel-item:only-child::after {width: 0;}#sk-container-id-5 div.sk-dashed-wrapped {border: 1px dashed gray;margin: 0 0.4em 0.5em 0.4em;box-sizing: border-box;padding-bottom: 0.4em;background-color: white;}#sk-container-id-5 div.sk-label label {font-family: monospace;font-weight: bold;display: inline-block;line-height: 1.2em;}#sk-container-id-5 div.sk-label-container {text-align: center;}#sk-container-id-5 div.sk-container {/* jupyter's `normalize.less` sets `[hidden] { display: none; }` but bootstrap.min.css set `[hidden] { display: none !important; }` so we also need the `!important` here to be able to override the default hidden behavior on the sphinx rendered scikit-learn.org. See: https://github.com/scikit-learn/scikit-learn/issues/21755 */display: inline-block !important;position: relative;}#sk-container-id-5 div.sk-text-repr-fallback {display: none;}</style><div id=\"sk-container-id-5\" class=\"sk-top-container\"><div class=\"sk-text-repr-fallback\"><pre>Ridge(alpha=0.1)</pre><b>In a Jupyter environment, please rerun this cell to show the HTML representation or trust the notebook. <br />On GitHub, the HTML representation is unable to render, please try loading this page with nbviewer.org.</b></div><div class=\"sk-container\" hidden><div class=\"sk-item\"><div class=\"sk-estimator sk-toggleable\"><input class=\"sk-toggleable__control sk-hidden--visually\" id=\"sk-estimator-id-9\" type=\"checkbox\" checked><label for=\"sk-estimator-id-9\" class=\"sk-toggleable__label sk-toggleable__label-arrow\">Ridge</label><div class=\"sk-toggleable__content\"><pre>Ridge(alpha=0.1)</pre></div></div></div></div></div>"
      ],
      "text/plain": [
       "Ridge(alpha=0.1)"
      ]
     },
     "execution_count": 95,
     "metadata": {},
     "output_type": "execute_result"
    }
   ],
   "source": [
    "#ridge_model.fit(X_train_scaled, y_train)"
   ]
  },
  {
   "cell_type": "code",
   "execution_count": 34,
   "id": "aa6589f8",
   "metadata": {},
   "outputs": [
    {
     "data": {
      "text/html": [
       "<style>#sk-container-id-5 {color: black;background-color: white;}#sk-container-id-5 pre{padding: 0;}#sk-container-id-5 div.sk-toggleable {background-color: white;}#sk-container-id-5 label.sk-toggleable__label {cursor: pointer;display: block;width: 100%;margin-bottom: 0;padding: 0.3em;box-sizing: border-box;text-align: center;}#sk-container-id-5 label.sk-toggleable__label-arrow:before {content: \"▸\";float: left;margin-right: 0.25em;color: #696969;}#sk-container-id-5 label.sk-toggleable__label-arrow:hover:before {color: black;}#sk-container-id-5 div.sk-estimator:hover label.sk-toggleable__label-arrow:before {color: black;}#sk-container-id-5 div.sk-toggleable__content {max-height: 0;max-width: 0;overflow: hidden;text-align: left;background-color: #f0f8ff;}#sk-container-id-5 div.sk-toggleable__content pre {margin: 0.2em;color: black;border-radius: 0.25em;background-color: #f0f8ff;}#sk-container-id-5 input.sk-toggleable__control:checked~div.sk-toggleable__content {max-height: 200px;max-width: 100%;overflow: auto;}#sk-container-id-5 input.sk-toggleable__control:checked~label.sk-toggleable__label-arrow:before {content: \"▾\";}#sk-container-id-5 div.sk-estimator input.sk-toggleable__control:checked~label.sk-toggleable__label {background-color: #d4ebff;}#sk-container-id-5 div.sk-label input.sk-toggleable__control:checked~label.sk-toggleable__label {background-color: #d4ebff;}#sk-container-id-5 input.sk-hidden--visually {border: 0;clip: rect(1px 1px 1px 1px);clip: rect(1px, 1px, 1px, 1px);height: 1px;margin: -1px;overflow: hidden;padding: 0;position: absolute;width: 1px;}#sk-container-id-5 div.sk-estimator {font-family: monospace;background-color: #f0f8ff;border: 1px dotted black;border-radius: 0.25em;box-sizing: border-box;margin-bottom: 0.5em;}#sk-container-id-5 div.sk-estimator:hover {background-color: #d4ebff;}#sk-container-id-5 div.sk-parallel-item::after {content: \"\";width: 100%;border-bottom: 1px solid gray;flex-grow: 1;}#sk-container-id-5 div.sk-label:hover label.sk-toggleable__label {background-color: #d4ebff;}#sk-container-id-5 div.sk-serial::before {content: \"\";position: absolute;border-left: 1px solid gray;box-sizing: border-box;top: 0;bottom: 0;left: 50%;z-index: 0;}#sk-container-id-5 div.sk-serial {display: flex;flex-direction: column;align-items: center;background-color: white;padding-right: 0.2em;padding-left: 0.2em;position: relative;}#sk-container-id-5 div.sk-item {position: relative;z-index: 1;}#sk-container-id-5 div.sk-parallel {display: flex;align-items: stretch;justify-content: center;background-color: white;position: relative;}#sk-container-id-5 div.sk-item::before, #sk-container-id-5 div.sk-parallel-item::before {content: \"\";position: absolute;border-left: 1px solid gray;box-sizing: border-box;top: 0;bottom: 0;left: 50%;z-index: -1;}#sk-container-id-5 div.sk-parallel-item {display: flex;flex-direction: column;z-index: 1;position: relative;background-color: white;}#sk-container-id-5 div.sk-parallel-item:first-child::after {align-self: flex-end;width: 50%;}#sk-container-id-5 div.sk-parallel-item:last-child::after {align-self: flex-start;width: 50%;}#sk-container-id-5 div.sk-parallel-item:only-child::after {width: 0;}#sk-container-id-5 div.sk-dashed-wrapped {border: 1px dashed gray;margin: 0 0.4em 0.5em 0.4em;box-sizing: border-box;padding-bottom: 0.4em;background-color: white;}#sk-container-id-5 div.sk-label label {font-family: monospace;font-weight: bold;display: inline-block;line-height: 1.2em;}#sk-container-id-5 div.sk-label-container {text-align: center;}#sk-container-id-5 div.sk-container {/* jupyter's `normalize.less` sets `[hidden] { display: none; }` but bootstrap.min.css set `[hidden] { display: none !important; }` so we also need the `!important` here to be able to override the default hidden behavior on the sphinx rendered scikit-learn.org. See: https://github.com/scikit-learn/scikit-learn/issues/21755 */display: inline-block !important;position: relative;}#sk-container-id-5 div.sk-text-repr-fallback {display: none;}</style><div id=\"sk-container-id-5\" class=\"sk-top-container\"><div class=\"sk-text-repr-fallback\"><pre>RandomForestClassifier()</pre><b>In a Jupyter environment, please rerun this cell to show the HTML representation or trust the notebook. <br />On GitHub, the HTML representation is unable to render, please try loading this page with nbviewer.org.</b></div><div class=\"sk-container\" hidden><div class=\"sk-item\"><div class=\"sk-estimator sk-toggleable\"><input class=\"sk-toggleable__control sk-hidden--visually\" id=\"sk-estimator-id-7\" type=\"checkbox\" checked><label for=\"sk-estimator-id-7\" class=\"sk-toggleable__label sk-toggleable__label-arrow\">RandomForestClassifier</label><div class=\"sk-toggleable__content\"><pre>RandomForestClassifier()</pre></div></div></div></div></div>"
      ],
      "text/plain": [
       "RandomForestClassifier()"
      ]
     },
     "execution_count": 34,
     "metadata": {},
     "output_type": "execute_result"
    }
   ],
   "source": [
    "dt_classifier.fit(X_train, y_train)\n",
    "rf_classifier.fit(X_train, y_train)"
   ]
  },
  {
   "cell_type": "code",
   "execution_count": 35,
   "id": "f9f7fae8",
   "metadata": {},
   "outputs": [
    {
     "data": {
      "text/html": [
       "<style>#sk-container-id-6 {color: black;background-color: white;}#sk-container-id-6 pre{padding: 0;}#sk-container-id-6 div.sk-toggleable {background-color: white;}#sk-container-id-6 label.sk-toggleable__label {cursor: pointer;display: block;width: 100%;margin-bottom: 0;padding: 0.3em;box-sizing: border-box;text-align: center;}#sk-container-id-6 label.sk-toggleable__label-arrow:before {content: \"▸\";float: left;margin-right: 0.25em;color: #696969;}#sk-container-id-6 label.sk-toggleable__label-arrow:hover:before {color: black;}#sk-container-id-6 div.sk-estimator:hover label.sk-toggleable__label-arrow:before {color: black;}#sk-container-id-6 div.sk-toggleable__content {max-height: 0;max-width: 0;overflow: hidden;text-align: left;background-color: #f0f8ff;}#sk-container-id-6 div.sk-toggleable__content pre {margin: 0.2em;color: black;border-radius: 0.25em;background-color: #f0f8ff;}#sk-container-id-6 input.sk-toggleable__control:checked~div.sk-toggleable__content {max-height: 200px;max-width: 100%;overflow: auto;}#sk-container-id-6 input.sk-toggleable__control:checked~label.sk-toggleable__label-arrow:before {content: \"▾\";}#sk-container-id-6 div.sk-estimator input.sk-toggleable__control:checked~label.sk-toggleable__label {background-color: #d4ebff;}#sk-container-id-6 div.sk-label input.sk-toggleable__control:checked~label.sk-toggleable__label {background-color: #d4ebff;}#sk-container-id-6 input.sk-hidden--visually {border: 0;clip: rect(1px 1px 1px 1px);clip: rect(1px, 1px, 1px, 1px);height: 1px;margin: -1px;overflow: hidden;padding: 0;position: absolute;width: 1px;}#sk-container-id-6 div.sk-estimator {font-family: monospace;background-color: #f0f8ff;border: 1px dotted black;border-radius: 0.25em;box-sizing: border-box;margin-bottom: 0.5em;}#sk-container-id-6 div.sk-estimator:hover {background-color: #d4ebff;}#sk-container-id-6 div.sk-parallel-item::after {content: \"\";width: 100%;border-bottom: 1px solid gray;flex-grow: 1;}#sk-container-id-6 div.sk-label:hover label.sk-toggleable__label {background-color: #d4ebff;}#sk-container-id-6 div.sk-serial::before {content: \"\";position: absolute;border-left: 1px solid gray;box-sizing: border-box;top: 0;bottom: 0;left: 50%;z-index: 0;}#sk-container-id-6 div.sk-serial {display: flex;flex-direction: column;align-items: center;background-color: white;padding-right: 0.2em;padding-left: 0.2em;position: relative;}#sk-container-id-6 div.sk-item {position: relative;z-index: 1;}#sk-container-id-6 div.sk-parallel {display: flex;align-items: stretch;justify-content: center;background-color: white;position: relative;}#sk-container-id-6 div.sk-item::before, #sk-container-id-6 div.sk-parallel-item::before {content: \"\";position: absolute;border-left: 1px solid gray;box-sizing: border-box;top: 0;bottom: 0;left: 50%;z-index: -1;}#sk-container-id-6 div.sk-parallel-item {display: flex;flex-direction: column;z-index: 1;position: relative;background-color: white;}#sk-container-id-6 div.sk-parallel-item:first-child::after {align-self: flex-end;width: 50%;}#sk-container-id-6 div.sk-parallel-item:last-child::after {align-self: flex-start;width: 50%;}#sk-container-id-6 div.sk-parallel-item:only-child::after {width: 0;}#sk-container-id-6 div.sk-dashed-wrapped {border: 1px dashed gray;margin: 0 0.4em 0.5em 0.4em;box-sizing: border-box;padding-bottom: 0.4em;background-color: white;}#sk-container-id-6 div.sk-label label {font-family: monospace;font-weight: bold;display: inline-block;line-height: 1.2em;}#sk-container-id-6 div.sk-label-container {text-align: center;}#sk-container-id-6 div.sk-container {/* jupyter's `normalize.less` sets `[hidden] { display: none; }` but bootstrap.min.css set `[hidden] { display: none !important; }` so we also need the `!important` here to be able to override the default hidden behavior on the sphinx rendered scikit-learn.org. See: https://github.com/scikit-learn/scikit-learn/issues/21755 */display: inline-block !important;position: relative;}#sk-container-id-6 div.sk-text-repr-fallback {display: none;}</style><div id=\"sk-container-id-6\" class=\"sk-top-container\"><div class=\"sk-text-repr-fallback\"><pre>RandomForestClassifier(max_depth=12, n_estimators=66)</pre><b>In a Jupyter environment, please rerun this cell to show the HTML representation or trust the notebook. <br />On GitHub, the HTML representation is unable to render, please try loading this page with nbviewer.org.</b></div><div class=\"sk-container\" hidden><div class=\"sk-item\"><div class=\"sk-estimator sk-toggleable\"><input class=\"sk-toggleable__control sk-hidden--visually\" id=\"sk-estimator-id-8\" type=\"checkbox\" checked><label for=\"sk-estimator-id-8\" class=\"sk-toggleable__label sk-toggleable__label-arrow\">RandomForestClassifier</label><div class=\"sk-toggleable__content\"><pre>RandomForestClassifier(max_depth=12, n_estimators=66)</pre></div></div></div></div></div>"
      ],
      "text/plain": [
       "RandomForestClassifier(max_depth=12, n_estimators=66)"
      ]
     },
     "execution_count": 35,
     "metadata": {},
     "output_type": "execute_result"
    }
   ],
   "source": [
    "best_model = grid_search.best_estimator_\n",
    "best_model"
   ]
  },
  {
   "cell_type": "markdown",
   "id": "fd430f07",
   "metadata": {},
   "source": [
    "## Test the Model"
   ]
  },
  {
   "cell_type": "code",
   "execution_count": 64,
   "id": "876803c6",
   "metadata": {},
   "outputs": [
    {
     "name": "stderr",
     "output_type": "stream",
     "text": [
      "/opt/anaconda3/lib/python3.11/site-packages/sklearn/base.py:439: UserWarning:\n",
      "\n",
      "X does not have valid feature names, but LogisticRegression was fitted with feature names\n",
      "\n"
     ]
    }
   ],
   "source": [
    "#y_pred = logistic_model.predict(X_test_scaled)"
   ]
  },
  {
   "cell_type": "code",
   "execution_count": 96,
   "id": "a1b3c699",
   "metadata": {},
   "outputs": [],
   "source": [
    "#y_pred = ridge_model.predict(X_test_scaled)"
   ]
  },
  {
   "cell_type": "code",
   "execution_count": 97,
   "id": "344c5986",
   "metadata": {},
   "outputs": [],
   "source": [
    "#y_pred_ridge_cv = ridge_model.predict(X_test_scaled)"
   ]
  },
  {
   "cell_type": "code",
   "execution_count": 98,
   "id": "b35c39b6",
   "metadata": {},
   "outputs": [
    {
     "name": "stdout",
     "output_type": "stream",
     "text": [
      "Best parameters found:  {'alpha': 10}\n"
     ]
    }
   ],
   "source": [
    "#print(\"Best parameters found: \", grid_search.best_params_)\n",
    "\n",
    "#best_ridge = grid_search.best_estimator_"
   ]
  },
  {
   "cell_type": "code",
   "execution_count": 36,
   "id": "c37b54b2",
   "metadata": {},
   "outputs": [],
   "source": [
    "y_pred_dt = dt_classifier.predict(X_test)\n",
    "y_pred_rf = rf_classifier.predict(X_test)\n",
    "y_pred_rf_g = best_model.predict(X_test)"
   ]
  },
  {
   "cell_type": "markdown",
   "id": "b1947f46",
   "metadata": {},
   "source": [
    "## Interpretation of the Model"
   ]
  },
  {
   "cell_type": "code",
   "execution_count": 99,
   "id": "5e4a3ae4",
   "metadata": {},
   "outputs": [
    {
     "data": {
      "text/html": [
       "<div>\n",
       "<style scoped>\n",
       "    .dataframe tbody tr th:only-of-type {\n",
       "        vertical-align: middle;\n",
       "    }\n",
       "\n",
       "    .dataframe tbody tr th {\n",
       "        vertical-align: top;\n",
       "    }\n",
       "\n",
       "    .dataframe thead th {\n",
       "        text-align: right;\n",
       "    }\n",
       "</style>\n",
       "<table border=\"1\" class=\"dataframe\">\n",
       "  <thead>\n",
       "    <tr style=\"text-align: right;\">\n",
       "      <th></th>\n",
       "      <th>Coefficient</th>\n",
       "    </tr>\n",
       "  </thead>\n",
       "  <tbody>\n",
       "    <tr>\n",
       "      <th>age</th>\n",
       "      <td>0.204158</td>\n",
       "    </tr>\n",
       "    <tr>\n",
       "      <th>appearance</th>\n",
       "      <td>-0.027312</td>\n",
       "    </tr>\n",
       "    <tr>\n",
       "      <th>yellow cards</th>\n",
       "      <td>0.013057</td>\n",
       "    </tr>\n",
       "    <tr>\n",
       "      <th>assists</th>\n",
       "      <td>-0.027040</td>\n",
       "    </tr>\n",
       "    <tr>\n",
       "      <th>minutes played</th>\n",
       "      <td>-0.184330</td>\n",
       "    </tr>\n",
       "    <tr>\n",
       "      <th>days_injured</th>\n",
       "      <td>-0.031229</td>\n",
       "    </tr>\n",
       "    <tr>\n",
       "      <th>award</th>\n",
       "      <td>-0.140497</td>\n",
       "    </tr>\n",
       "  </tbody>\n",
       "</table>\n",
       "</div>"
      ],
      "text/plain": [
       "                Coefficient\n",
       "age                0.204158\n",
       "appearance        -0.027312\n",
       "yellow cards       0.013057\n",
       "assists           -0.027040\n",
       "minutes played    -0.184330\n",
       "days_injured      -0.031229\n",
       "award             -0.140497"
      ]
     },
     "execution_count": 99,
     "metadata": {},
     "output_type": "execute_result"
    }
   ],
   "source": [
    "#coeff_df = pd.DataFrame(ridge_model.coef_, X.columns, columns=['Coefficient'])\n",
    "#coeff_df"
   ]
  },
  {
   "cell_type": "code",
   "execution_count": 37,
   "id": "39e908f9",
   "metadata": {},
   "outputs": [],
   "source": [
    "#coeff_df = pd.DataFrame(logistic_model.coef_[2],X.columns,columns=['Coefficient'])\n",
    "#coeff_df"
   ]
  },
  {
   "cell_type": "code",
   "execution_count": 101,
   "id": "c86236ff",
   "metadata": {},
   "outputs": [
    {
     "name": "stdout",
     "output_type": "stream",
     "text": [
      "1.5240032546786004\n"
     ]
    }
   ],
   "source": [
    "#print(ridge_model.intercept_) "
   ]
  },
  {
   "cell_type": "code",
   "execution_count": 66,
   "id": "c4497a8c",
   "metadata": {},
   "outputs": [
    {
     "data": {
      "text/plain": [
       "array([[-0.11939559,  0.03892197, -0.00088537,  0.00042103,  0.0002315 ,\n",
       "         0.00353157,  0.02821589],\n",
       "       [ 0.05237495, -0.02089399, -0.00039912, -0.00028779, -0.00043719,\n",
       "        -0.00452369, -0.0058082 ],\n",
       "       [ 0.06702063, -0.01802798,  0.00128449, -0.00013324,  0.00020569,\n",
       "         0.00099212, -0.02240769]])"
      ]
     },
     "execution_count": 66,
     "metadata": {},
     "output_type": "execute_result"
    }
   ],
   "source": [
    "#logistic_model.coef_"
   ]
  },
  {
   "cell_type": "markdown",
   "id": "e084b4bf",
   "metadata": {},
   "source": [
    "## Evaluating the Model "
   ]
  },
  {
   "cell_type": "code",
   "execution_count": 39,
   "id": "85e5a4da",
   "metadata": {},
   "outputs": [
    {
     "name": "stdout",
     "output_type": "stream",
     "text": [
      "Mean Squared Error of base model: 0.5595037502280066\n"
     ]
    }
   ],
   "source": [
    "y_base = [y_train.mean()] * len(y_test)\n",
    "\n",
    "mse_base = mean_squared_error(y_test, y_base )\n",
    "print(f'Mean Squared Error of base model: {mse_base}')"
   ]
  },
  {
   "cell_type": "code",
   "execution_count": 40,
   "id": "cd9590c2",
   "metadata": {},
   "outputs": [
    {
     "data": {
      "text/plain": [
       "13.59"
      ]
     },
     "execution_count": 40,
     "metadata": {},
     "output_type": "execute_result"
    }
   ],
   "source": [
    "base_model = round(df['player_price_category_encoded'].value_counts()[1]/df.shape[0]*100, 2)\n",
    "base_model"
   ]
  },
  {
   "cell_type": "code",
   "execution_count": 69,
   "id": "481c389a",
   "metadata": {},
   "outputs": [
    {
     "data": {
      "text/plain": [
       "0.44490934449093444"
      ]
     },
     "execution_count": 69,
     "metadata": {},
     "output_type": "execute_result"
    }
   ],
   "source": [
    "#accuracy = accuracy_score(y_test, y_pred)\n",
    "#accuracy"
   ]
  },
  {
   "cell_type": "code",
   "execution_count": 70,
   "id": "5063c20a",
   "metadata": {},
   "outputs": [
    {
     "name": "stderr",
     "output_type": "stream",
     "text": [
      "/opt/anaconda3/lib/python3.11/site-packages/sklearn/base.py:439: UserWarning:\n",
      "\n",
      "X does not have valid feature names, but LogisticRegression was fitted with feature names\n",
      "\n"
     ]
    },
    {
     "data": {
      "text/plain": [
       "0.44182262001627337"
      ]
     },
     "execution_count": 70,
     "metadata": {},
     "output_type": "execute_result"
    }
   ],
   "source": [
    "#y_pred_train =logistic_model.predict(X_train_scaled)\n",
    "#accuracy = accuracy_score(y_train, y_pred_train)\n",
    "#accuracy"
   ]
  },
  {
   "cell_type": "code",
   "execution_count": 71,
   "id": "9d869293",
   "metadata": {},
   "outputs": [
    {
     "data": {
      "text/plain": [
       "array([[256,  18,  61],\n",
       "       [179,  39,  73],\n",
       "       [670, 193, 662]])"
      ]
     },
     "execution_count": 71,
     "metadata": {},
     "output_type": "execute_result"
    }
   ],
   "source": [
    "#conf_matrix = confusion_matrix(y_test, y_pred)\n",
    "#conf_matrix"
   ]
  },
  {
   "cell_type": "code",
   "execution_count": 41,
   "id": "52a44fb1",
   "metadata": {},
   "outputs": [],
   "source": [
    "#ConfusionMatrixDisplay.from_predictions(y_test, y_pred,\n",
    "   #                                     display_labels=logistic_model.classes_,\n",
    "  #                                      cmap=\"Blues\",\n",
    " #                                       xticks_rotation='vertical')\n",
    "#plt.title('Confusion Matrix')\n",
    "#plt.show()"
   ]
  },
  {
   "cell_type": "markdown",
   "id": "e814e634",
   "metadata": {},
   "source": [
    "1. Mean Square Error"
   ]
  },
  {
   "cell_type": "code",
   "execution_count": 42,
   "id": "e2642439",
   "metadata": {},
   "outputs": [],
   "source": [
    "#mse_train = mean_squared_error(y_train, ridge_model.predict(X_train_scaled))\n",
    "#mse_test = mean_squared_error(y_test, y_pred)\n",
    "#print(f'Mean Squared Error for training: {mse_train}')\n",
    "#print(f'Mean Squared Error for testing: {mse_test}')"
   ]
  },
  {
   "cell_type": "markdown",
   "id": "a5a82246",
   "metadata": {},
   "source": [
    "2. Mean Absolute Error"
   ]
  },
  {
   "cell_type": "code",
   "execution_count": 43,
   "id": "4bf0ef80",
   "metadata": {},
   "outputs": [
    {
     "name": "stdout",
     "output_type": "stream",
     "text": [
      "Mean Absolute  Error of base model: 0.6457094718939741\n"
     ]
    }
   ],
   "source": [
    "mse_base = mean_absolute_error(y_test, y_base )\n",
    "print(f'Mean Absolute  Error of base model: {mse_base}')"
   ]
  },
  {
   "cell_type": "code",
   "execution_count": 44,
   "id": "e360660b",
   "metadata": {},
   "outputs": [],
   "source": [
    "#mae_train = mean_absolute_error(y_train, ridge_model.predict(X_train_scaled))\n",
    "#mae_test = mean_absolute_error(y_test, y_pred)\n",
    "#print(f'Mean Absolute Error for training: {mae_train}')\n",
    "#print(f'Mean Absolute Error for testing: {mae_test}')"
   ]
  },
  {
   "cell_type": "markdown",
   "id": "c68fa224",
   "metadata": {},
   "source": [
    "3. Root Mean Absolute Error"
   ]
  },
  {
   "cell_type": "code",
   "execution_count": 45,
   "id": "b7dfddf8",
   "metadata": {},
   "outputs": [
    {
     "name": "stdout",
     "output_type": "stream",
     "text": [
      "Root Mean absolute Error of base model: 0.8035604967231615\n"
     ]
    }
   ],
   "source": [
    "print(f'Root Mean absolute Error of base model: {np.sqrt(mse_base)}')"
   ]
  },
  {
   "cell_type": "code",
   "execution_count": 46,
   "id": "4e5bad78",
   "metadata": {},
   "outputs": [],
   "source": [
    "#print(f'Root Mean absolute Error for training: {np.sqrt(mse_train)}')\n",
    "#print(f'Root Mean absolute Error for testing: {np.sqrt(mse_test)}')"
   ]
  },
  {
   "cell_type": "markdown",
   "id": "2abebf6e",
   "metadata": {},
   "source": [
    "4. R Square"
   ]
  },
  {
   "cell_type": "code",
   "execution_count": 109,
   "id": "952611bb",
   "metadata": {},
   "outputs": [
    {
     "name": "stdout",
     "output_type": "stream",
     "text": [
      "R Square for training: 0.1480706963355738\n",
      "R Square for testing: 0.15419361346013283\n"
     ]
    }
   ],
   "source": [
    "#r2_score_train = r2_score(y_train, ridge_model.predict(X_train_scaled))\n",
    "#r2_test = r2_score(y_test, y_pred)\n",
    "#print(f'R Square for training: {r2_score_train}')\n",
    "#print(f'R Square for testing: {r2_test}')"
   ]
  },
  {
   "cell_type": "code",
   "execution_count": 47,
   "id": "d1ffcacc",
   "metadata": {},
   "outputs": [],
   "source": [
    "#cv_scores = cross_val_score(ridge_model, X, y, cv=5, scoring='r2')\n",
    "\n",
    "#print(f'Cross-Validation R-squared: {cv_scores.mean():.2f} +/- {cv_scores.std():.2f}')"
   ]
  },
  {
   "cell_type": "code",
   "execution_count": 48,
   "id": "57e55193",
   "metadata": {},
   "outputs": [
    {
     "data": {
      "text/plain": [
       "0.7773128777312878"
      ]
     },
     "execution_count": 48,
     "metadata": {},
     "output_type": "execute_result"
    }
   ],
   "source": [
    "accuracy = accuracy_score(y_test, y_pred_rf)\n",
    "accuracy"
   ]
  },
  {
   "cell_type": "code",
   "execution_count": 49,
   "id": "ccb5a2c2",
   "metadata": {},
   "outputs": [
    {
     "data": {
      "text/plain": [
       "0.9925607346274555"
      ]
     },
     "execution_count": 49,
     "metadata": {},
     "output_type": "execute_result"
    }
   ],
   "source": [
    "y_pred_train_dt = dt_classifier.predict(X_train)\n",
    "accuracy = accuracy_score(y_train, y_pred_train_dt)\n",
    "accuracy"
   ]
  },
  {
   "cell_type": "code",
   "execution_count": 50,
   "id": "97757a17",
   "metadata": {},
   "outputs": [
    {
     "data": {
      "text/plain": [
       "0.9925607346274555"
      ]
     },
     "execution_count": 50,
     "metadata": {},
     "output_type": "execute_result"
    }
   ],
   "source": [
    "y_pred_train_rf = rf_classifier.predict(X_train)\n",
    "accuracy = accuracy_score(y_train, y_pred_train_rf)\n",
    "accuracy"
   ]
  },
  {
   "cell_type": "code",
   "execution_count": 51,
   "id": "8d700cb0",
   "metadata": {},
   "outputs": [
    {
     "data": {
      "text/plain": [
       "0.8902708357549692"
      ]
     },
     "execution_count": 51,
     "metadata": {},
     "output_type": "execute_result"
    }
   ],
   "source": [
    "y_pred_train_rf_g = best_model.predict(X_train)\n",
    "accuracy = accuracy_score(y_train, y_pred_train_rf_g)\n",
    "accuracy"
   ]
  },
  {
   "cell_type": "code",
   "execution_count": 52,
   "id": "fb4df377",
   "metadata": {},
   "outputs": [
    {
     "data": {
      "text/plain": [
       "array([[ 167,    1,  167],\n",
       "       [   1,  119,  171],\n",
       "       [  47,   78, 1400]])"
      ]
     },
     "execution_count": 52,
     "metadata": {},
     "output_type": "execute_result"
    }
   ],
   "source": [
    "conf_matrix = confusion_matrix(y_test, y_pred_rf_g)\n",
    "conf_matrix"
   ]
  },
  {
   "cell_type": "code",
   "execution_count": 53,
   "id": "64f96e09",
   "metadata": {},
   "outputs": [
    {
     "name": "stdout",
     "output_type": "stream",
     "text": [
      "              precision    recall  f1-score   support\n",
      "\n",
      "           0       0.78      0.50      0.61       335\n",
      "           1       0.60      0.41      0.49       291\n",
      "           2       0.81      0.92      0.86      1525\n",
      "\n",
      "    accuracy                           0.78      2151\n",
      "   macro avg       0.73      0.61      0.65      2151\n",
      "weighted avg       0.77      0.78      0.77      2151\n",
      "\n"
     ]
    }
   ],
   "source": [
    "print(classification_report(y_test,\n",
    "                      y_pred_rf_g,\n",
    "                      labels=list(best_model.classes_)))"
   ]
  },
  {
   "cell_type": "code",
   "execution_count": 54,
   "id": "27f3fc70",
   "metadata": {},
   "outputs": [
    {
     "data": {
      "image/png": "[encoded data removed]",
      "text/plain": [
       "<Figure size 640x480 with 2 Axes>"
      ]
     },
     "metadata": {},
     "output_type": "display_data"
    }
   ],
   "source": [
    "from sklearn.metrics import confusion_matrix, ConfusionMatrixDisplay\n",
    "\n",
    "ConfusionMatrixDisplay.from_predictions(y_test, y_pred_rf_g,\n",
    "                                        display_labels=best_model.classes_,\n",
    "                                        cmap=\"Blues\",\n",
    "                                        xticks_rotation='vertical')\n",
    "plt.title('Confusion Matrix')\n",
    "plt.show()"
   ]
  },
  {
   "cell_type": "markdown",
   "id": "bee33e3d",
   "metadata": {},
   "source": [
    "#### Predictions vs. Real Values"
   ]
  },
  {
   "cell_type": "code",
   "execution_count": 73,
   "id": "0e3a2e3a",
   "metadata": {},
   "outputs": [
    {
     "name": "stderr",
     "output_type": "stream",
     "text": [
      "/opt/anaconda3/lib/python3.11/site-packages/sklearn/base.py:439: UserWarning:\n",
      "\n",
      "X does not have valid feature names, but LogisticRegression was fitted with feature names\n",
      "\n"
     ]
    }
   ],
   "source": [
    "#predictions = logistic_model.predict(X_test_scaled)"
   ]
  },
  {
   "cell_type": "code",
   "execution_count": null,
   "id": "6bcf8085",
   "metadata": {},
   "outputs": [],
   "source": [
    "Real_Values = np.array(y_test)"
   ]
  },
  {
   "cell_type": "code",
   "execution_count": null,
   "id": "bdc29f37",
   "metadata": {},
   "outputs": [],
   "source": [
    "#plt.scatter(Real_Values,predictions); "
   ]
  },
  {
   "cell_type": "code",
   "execution_count": null,
   "id": "c3cf23ea",
   "metadata": {},
   "outputs": [],
   "source": [
    "#sns.distplot((y_test-predictions),bins=50);"
   ]
  },
  {
   "cell_type": "code",
   "execution_count": 74,
   "id": "a39445e5",
   "metadata": {},
   "outputs": [
    {
     "name": "stdout",
     "output_type": "stream",
     "text": [
      "Precision: 0.41\n"
     ]
    }
   ],
   "source": [
    "#precision = precision_score(y_test, y_pred, average='macro')\n",
    "#print(f\"Precision: {precision:.2f}\")"
   ]
  },
  {
   "cell_type": "code",
   "execution_count": 75,
   "id": "733e9abe",
   "metadata": {},
   "outputs": [
    {
     "name": "stdout",
     "output_type": "stream",
     "text": [
      "Recall: 0.44\n"
     ]
    }
   ],
   "source": [
    "#recall = recall_score(y_test, y_pred, average='macro')\n",
    "#print(f\"Recall: {recall:.2f}\")"
   ]
  },
  {
   "cell_type": "code",
   "execution_count": 76,
   "id": "7ec20c4a",
   "metadata": {},
   "outputs": [
    {
     "name": "stdout",
     "output_type": "stream",
     "text": [
      "F1 Score: 0.36\n"
     ]
    }
   ],
   "source": [
    "#f1 = f1_score(y_test, y_pred, average='macro')\n",
    "#print(f\"F1 Score: {f1:.2f}\")"
   ]
  },
  {
   "cell_type": "code",
   "execution_count": 55,
   "id": "2b25ae69",
   "metadata": {},
   "outputs": [
    {
     "name": "stdout",
     "output_type": "stream",
     "text": [
      "Precision: 0.73\n"
     ]
    }
   ],
   "source": [
    "# Calculate Precision\n",
    "precision = precision_score(y_test, y_pred_rf_g, average='macro')\n",
    "print(f\"Precision: {precision:.2f}\")"
   ]
  },
  {
   "cell_type": "code",
   "execution_count": 56,
   "id": "8314bca4",
   "metadata": {},
   "outputs": [
    {
     "name": "stdout",
     "output_type": "stream",
     "text": [
      "Recall: 0.61\n"
     ]
    }
   ],
   "source": [
    "recall = recall_score(y_test, y_pred_rf_g, average='macro')\n",
    "print(f\"Recall: {recall:.2f}\")"
   ]
  },
  {
   "cell_type": "code",
   "execution_count": 57,
   "id": "f9d61086",
   "metadata": {},
   "outputs": [
    {
     "name": "stdout",
     "output_type": "stream",
     "text": [
      "F1 Score: 0.65\n"
     ]
    }
   ],
   "source": [
    "f1 = f1_score(y_test, y_pred_rf_g, average='macro')\n",
    "print(f\"F1 Score: {f1:.2f}\")"
   ]
  },
  {
   "cell_type": "code",
   "execution_count": 58,
   "id": "b48e6851",
   "metadata": {},
   "outputs": [
    {
     "data": {
      "image/png": "[encoded data removed]",
      "text/plain": [
       "<Figure size 640x480 with 1 Axes>"
      ]
     },
     "metadata": {},
     "output_type": "display_data"
    }
   ],
   "source": [
    "feature_importances = best_model.feature_importances_\n",
    "plt.barh(X.columns, feature_importances)\n",
    "plt.xlabel('Feature Importance')\n",
    "plt.title('Feature Importance from Random Forest')\n",
    "plt.show()"
   ]
  }
 ],
 "metadata": {
  "kernelspec": {
   "display_name": "Python 3",
   "language": "python",
   "name": "python3"
  },
  "language_info": {
   "codemirror_mode": {
    "name": "ipython",
    "version": 3
   },
   "file_extension": ".py",
   "mimetype": "text/x-python",
   "name": "python",
   "nbconvert_exporter": "python",
   "pygments_lexer": "ipython3",
   "version": "3.11.7"
  }
 },
 "nbformat": 4,
 "nbformat_minor": 5
}
